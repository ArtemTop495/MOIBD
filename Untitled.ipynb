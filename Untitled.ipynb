{
 "cells": [
  {
   "cell_type": "code",
   "execution_count": 2,
   "id": "6f2d521d-264c-411d-bfb9-0d27c75aec4b",
   "metadata": {},
   "outputs": [],
   "source": [
    "import pandas as pd   \n",
    "import numpy as np\n",
    "import seaborn as sns    \n",
    "import matplotlib.pyplot as plt\n",
    "import warnings\n",
    "warnings.filterwarnings('ignore')\n",
    "\n",
    "%matplotlib inline"
   ]
  },
  {
   "cell_type": "code",
   "execution_count": 3,
   "id": "8dea4e99-c837-4e30-8d17-c57a3e6b88fd",
   "metadata": {},
   "outputs": [
    {
     "data": {
      "text/html": [
       "<div>\n",
       "<style scoped>\n",
       "    .dataframe tbody tr th:only-of-type {\n",
       "        vertical-align: middle;\n",
       "    }\n",
       "\n",
       "    .dataframe tbody tr th {\n",
       "        vertical-align: top;\n",
       "    }\n",
       "\n",
       "    .dataframe thead th {\n",
       "        text-align: right;\n",
       "    }\n",
       "</style>\n",
       "<table border=\"1\" class=\"dataframe\">\n",
       "  <thead>\n",
       "    <tr style=\"text-align: right;\">\n",
       "      <th></th>\n",
       "      <th>Unnamed: 0</th>\n",
       "      <th>key</th>\n",
       "      <th>fare_amount</th>\n",
       "      <th>pickup_datetime</th>\n",
       "      <th>pickup_longitude</th>\n",
       "      <th>pickup_latitude</th>\n",
       "      <th>dropoff_longitude</th>\n",
       "      <th>dropoff_latitude</th>\n",
       "      <th>passenger_count</th>\n",
       "    </tr>\n",
       "  </thead>\n",
       "  <tbody>\n",
       "    <tr>\n",
       "      <th>0</th>\n",
       "      <td>24238194</td>\n",
       "      <td>2015-05-07 19:52:06.0000003</td>\n",
       "      <td>7.5</td>\n",
       "      <td>2015-05-07 19:52:06 UTC</td>\n",
       "      <td>-73.999817</td>\n",
       "      <td>40.738354</td>\n",
       "      <td>-73.999512</td>\n",
       "      <td>40.723217</td>\n",
       "      <td>1</td>\n",
       "    </tr>\n",
       "    <tr>\n",
       "      <th>1</th>\n",
       "      <td>27835199</td>\n",
       "      <td>2009-07-17 20:04:56.0000002</td>\n",
       "      <td>7.7</td>\n",
       "      <td>2009-07-17 20:04:56 UTC</td>\n",
       "      <td>-73.994355</td>\n",
       "      <td>40.728225</td>\n",
       "      <td>-73.994710</td>\n",
       "      <td>40.750325</td>\n",
       "      <td>1</td>\n",
       "    </tr>\n",
       "    <tr>\n",
       "      <th>2</th>\n",
       "      <td>44984355</td>\n",
       "      <td>2009-08-24 21:45:00.00000061</td>\n",
       "      <td>12.9</td>\n",
       "      <td>2009-08-24 21:45:00 UTC</td>\n",
       "      <td>-74.005043</td>\n",
       "      <td>40.740770</td>\n",
       "      <td>-73.962565</td>\n",
       "      <td>40.772647</td>\n",
       "      <td>1</td>\n",
       "    </tr>\n",
       "    <tr>\n",
       "      <th>3</th>\n",
       "      <td>25894730</td>\n",
       "      <td>2009-06-26 08:22:21.0000001</td>\n",
       "      <td>5.3</td>\n",
       "      <td>2009-06-26 08:22:21 UTC</td>\n",
       "      <td>-73.976124</td>\n",
       "      <td>40.790844</td>\n",
       "      <td>-73.965316</td>\n",
       "      <td>40.803349</td>\n",
       "      <td>3</td>\n",
       "    </tr>\n",
       "    <tr>\n",
       "      <th>4</th>\n",
       "      <td>17610152</td>\n",
       "      <td>2014-08-28 17:47:00.000000188</td>\n",
       "      <td>16.0</td>\n",
       "      <td>2014-08-28 17:47:00 UTC</td>\n",
       "      <td>-73.925023</td>\n",
       "      <td>40.744085</td>\n",
       "      <td>-73.973082</td>\n",
       "      <td>40.761247</td>\n",
       "      <td>5</td>\n",
       "    </tr>\n",
       "  </tbody>\n",
       "</table>\n",
       "</div>"
      ],
      "text/plain": [
       "   Unnamed: 0                            key  fare_amount  \\\n",
       "0    24238194    2015-05-07 19:52:06.0000003          7.5   \n",
       "1    27835199    2009-07-17 20:04:56.0000002          7.7   \n",
       "2    44984355   2009-08-24 21:45:00.00000061         12.9   \n",
       "3    25894730    2009-06-26 08:22:21.0000001          5.3   \n",
       "4    17610152  2014-08-28 17:47:00.000000188         16.0   \n",
       "\n",
       "           pickup_datetime  pickup_longitude  pickup_latitude  \\\n",
       "0  2015-05-07 19:52:06 UTC        -73.999817        40.738354   \n",
       "1  2009-07-17 20:04:56 UTC        -73.994355        40.728225   \n",
       "2  2009-08-24 21:45:00 UTC        -74.005043        40.740770   \n",
       "3  2009-06-26 08:22:21 UTC        -73.976124        40.790844   \n",
       "4  2014-08-28 17:47:00 UTC        -73.925023        40.744085   \n",
       "\n",
       "   dropoff_longitude  dropoff_latitude  passenger_count  \n",
       "0         -73.999512         40.723217                1  \n",
       "1         -73.994710         40.750325                1  \n",
       "2         -73.962565         40.772647                1  \n",
       "3         -73.965316         40.803349                3  \n",
       "4         -73.973082         40.761247                5  "
      ]
     },
     "execution_count": 3,
     "metadata": {},
     "output_type": "execute_result"
    }
   ],
   "source": [
    "df = pd.read_csv('uber.csv')\n",
    "df.head()"
   ]
  },
  {
   "cell_type": "code",
   "execution_count": 4,
   "id": "cbed2050-c302-408d-8cd9-d6cb3570fd6f",
   "metadata": {},
   "outputs": [
    {
     "name": "stdout",
     "output_type": "stream",
     "text": [
      "<class 'pandas.core.frame.DataFrame'>\n",
      "RangeIndex: 200000 entries, 0 to 199999\n",
      "Data columns (total 9 columns):\n",
      " #   Column             Non-Null Count   Dtype  \n",
      "---  ------             --------------   -----  \n",
      " 0   Unnamed: 0         200000 non-null  int64  \n",
      " 1   key                200000 non-null  object \n",
      " 2   fare_amount        200000 non-null  float64\n",
      " 3   pickup_datetime    200000 non-null  object \n",
      " 4   pickup_longitude   200000 non-null  float64\n",
      " 5   pickup_latitude    200000 non-null  float64\n",
      " 6   dropoff_longitude  199999 non-null  float64\n",
      " 7   dropoff_latitude   199999 non-null  float64\n",
      " 8   passenger_count    200000 non-null  int64  \n",
      "dtypes: float64(5), int64(2), object(2)\n",
      "memory usage: 13.7+ MB\n"
     ]
    }
   ],
   "source": [
    "df.info()"
   ]
  },
  {
   "cell_type": "markdown",
   "id": "f357d288-f846-4b1e-b1de-bf1fcfe8979c",
   "metadata": {},
   "source": [
    "Об этом файле\n",
    "\n",
    "Набор данных содержит следующие поля:\n",
    "\n",
    "- key — уникальный идентификатор для каждой поездки\n",
    "- pickup_datetime — дата и время включения счетчика\n",
    "- passenger_count — количество пассажиров в транспортном средстве (значение, введенное водителем) \n",
    "- pickup_longitude — долгота, на которой был включен счетчик \n",
    "- pickup_latitude — широта, на которой был включен счетчик \n",
    "- dropoff_longitude — долгота, на которой был отключен счетчик \n",
    "- dropoff_latitude — широта, на которой был отключен счетчик\n",
    "\n",
    "Целевой признак:\n",
    "- fare_amount — стоимость каждой поездки в долларах США"
   ]
  },
  {
   "cell_type": "code",
   "execution_count": 5,
   "id": "13c9198a-a83f-43f3-852d-af505442cfe1",
   "metadata": {},
   "outputs": [
    {
     "data": {
      "text/plain": [
       "(200000, 9)"
      ]
     },
     "execution_count": 5,
     "metadata": {},
     "output_type": "execute_result"
    }
   ],
   "source": [
    "# объём данных (строк и столбцов - объектов и признаков)\n",
    "df.shape"
   ]
  },
  {
   "cell_type": "code",
   "execution_count": 7,
   "id": "99fdce54-fe36-40f5-bd21-54bda5f215e9",
   "metadata": {},
   "outputs": [
    {
     "data": {
      "text/plain": [
       "Unnamed: 0             int64\n",
       "key                   object\n",
       "fare_amount          float64\n",
       "pickup_datetime       object\n",
       "pickup_longitude     float64\n",
       "pickup_latitude      float64\n",
       "dropoff_longitude    float64\n",
       "dropoff_latitude     float64\n",
       "passenger_count        int64\n",
       "dtype: object"
      ]
     },
     "execution_count": 7,
     "metadata": {},
     "output_type": "execute_result"
    }
   ],
   "source": [
    "# выводим типы данных\n",
    "df.dtypes"
   ]
  },
  {
   "cell_type": "code",
   "execution_count": 8,
   "id": "e1eff698-6ffc-4360-9d0c-9aa052641168",
   "metadata": {},
   "outputs": [
    {
     "data": {
      "text/plain": [
       "Index(['Unnamed: 0', 'key', 'fare_amount', 'pickup_datetime',\n",
       "       'pickup_longitude', 'pickup_latitude', 'dropoff_longitude',\n",
       "       'dropoff_latitude', 'passenger_count'],\n",
       "      dtype='object')"
      ]
     },
     "execution_count": 8,
     "metadata": {},
     "output_type": "execute_result"
    }
   ],
   "source": [
    "# имена колонок в виде списка\n",
    "columns = df.columns\n",
    "columns"
   ]
  },
  {
   "cell_type": "code",
   "execution_count": 9,
   "id": "22cc638b-f9fe-4254-aeca-9b299a1212cf",
   "metadata": {},
   "outputs": [
    {
     "name": "stdout",
     "output_type": "stream",
     "text": [
      "Кол-во пропусков в колонке Unnamed: 0 = 0\n",
      "Кол-во пропусков в колонке key = 0\n",
      "Кол-во пропусков в колонке fare_amount = 0\n",
      "Кол-во пропусков в колонке pickup_datetime = 0\n",
      "Кол-во пропусков в колонке pickup_longitude = 0\n",
      "Кол-во пропусков в колонке pickup_latitude = 0\n",
      "Кол-во пропусков в колонке dropoff_longitude = 1\n",
      "Кол-во пропусков в колонке dropoff_latitude = 1\n",
      "Кол-во пропусков в колонке passenger_count = 0\n"
     ]
    }
   ],
   "source": [
    "for col in df.columns:\n",
    "    print('Кол-во пропусков в колонке %s = %d' % (col, df[col].isna().sum()))"
   ]
  },
  {
   "cell_type": "code",
   "execution_count": 10,
   "id": "8496a649-93a0-49a8-a196-901e3036b074",
   "metadata": {},
   "outputs": [],
   "source": [
    "df.dropna(inplace=True)"
   ]
  },
  {
   "cell_type": "code",
   "execution_count": 11,
   "id": "73de71a2-e90f-4e59-9650-6fd987cb4529",
   "metadata": {},
   "outputs": [
    {
     "name": "stdout",
     "output_type": "stream",
     "text": [
      "Кол-во пропусков в колонке Unnamed: 0 = 0\n",
      "Кол-во пропусков в колонке key = 0\n",
      "Кол-во пропусков в колонке fare_amount = 0\n",
      "Кол-во пропусков в колонке pickup_datetime = 0\n",
      "Кол-во пропусков в колонке pickup_longitude = 0\n",
      "Кол-во пропусков в колонке pickup_latitude = 0\n",
      "Кол-во пропусков в колонке dropoff_longitude = 0\n",
      "Кол-во пропусков в колонке dropoff_latitude = 0\n",
      "Кол-во пропусков в колонке passenger_count = 0\n"
     ]
    }
   ],
   "source": [
    "for col in df.columns:\n",
    "    print('Кол-во пропусков в колонке %s = %d' % (col, df[col].isna().sum()))"
   ]
  },
  {
   "cell_type": "code",
   "execution_count": 12,
   "id": "03fe7bb0-adca-4b83-a9c3-1c446e20b660",
   "metadata": {},
   "outputs": [
    {
     "data": {
      "text/html": [
       "<div>\n",
       "<style scoped>\n",
       "    .dataframe tbody tr th:only-of-type {\n",
       "        vertical-align: middle;\n",
       "    }\n",
       "\n",
       "    .dataframe tbody tr th {\n",
       "        vertical-align: top;\n",
       "    }\n",
       "\n",
       "    .dataframe thead th {\n",
       "        text-align: right;\n",
       "    }\n",
       "</style>\n",
       "<table border=\"1\" class=\"dataframe\">\n",
       "  <thead>\n",
       "    <tr style=\"text-align: right;\">\n",
       "      <th></th>\n",
       "      <th>count</th>\n",
       "      <th>mean</th>\n",
       "      <th>std</th>\n",
       "      <th>min</th>\n",
       "      <th>25%</th>\n",
       "      <th>50%</th>\n",
       "      <th>75%</th>\n",
       "      <th>max</th>\n",
       "    </tr>\n",
       "  </thead>\n",
       "  <tbody>\n",
       "    <tr>\n",
       "      <th>Unnamed: 0</th>\n",
       "      <td>199999.0</td>\n",
       "      <td>2.771248e+07</td>\n",
       "      <td>1.601386e+07</td>\n",
       "      <td>1.000000</td>\n",
       "      <td>1.382534e+07</td>\n",
       "      <td>2.774524e+07</td>\n",
       "      <td>4.155535e+07</td>\n",
       "      <td>5.542357e+07</td>\n",
       "    </tr>\n",
       "    <tr>\n",
       "      <th>fare_amount</th>\n",
       "      <td>199999.0</td>\n",
       "      <td>1.135989e+01</td>\n",
       "      <td>9.901760e+00</td>\n",
       "      <td>-52.000000</td>\n",
       "      <td>6.000000e+00</td>\n",
       "      <td>8.500000e+00</td>\n",
       "      <td>1.250000e+01</td>\n",
       "      <td>4.990000e+02</td>\n",
       "    </tr>\n",
       "    <tr>\n",
       "      <th>pickup_longitude</th>\n",
       "      <td>199999.0</td>\n",
       "      <td>-7.252763e+01</td>\n",
       "      <td>1.143782e+01</td>\n",
       "      <td>-1340.648410</td>\n",
       "      <td>-7.399206e+01</td>\n",
       "      <td>-7.398182e+01</td>\n",
       "      <td>-7.396715e+01</td>\n",
       "      <td>5.741846e+01</td>\n",
       "    </tr>\n",
       "    <tr>\n",
       "      <th>pickup_latitude</th>\n",
       "      <td>199999.0</td>\n",
       "      <td>3.993588e+01</td>\n",
       "      <td>7.720558e+00</td>\n",
       "      <td>-74.015515</td>\n",
       "      <td>4.073480e+01</td>\n",
       "      <td>4.075259e+01</td>\n",
       "      <td>4.076716e+01</td>\n",
       "      <td>1.644421e+03</td>\n",
       "    </tr>\n",
       "    <tr>\n",
       "      <th>dropoff_longitude</th>\n",
       "      <td>199999.0</td>\n",
       "      <td>-7.252529e+01</td>\n",
       "      <td>1.311741e+01</td>\n",
       "      <td>-3356.666300</td>\n",
       "      <td>-7.399141e+01</td>\n",
       "      <td>-7.398009e+01</td>\n",
       "      <td>-7.396366e+01</td>\n",
       "      <td>1.153573e+03</td>\n",
       "    </tr>\n",
       "    <tr>\n",
       "      <th>dropoff_latitude</th>\n",
       "      <td>199999.0</td>\n",
       "      <td>3.992389e+01</td>\n",
       "      <td>6.794829e+00</td>\n",
       "      <td>-881.985513</td>\n",
       "      <td>4.073382e+01</td>\n",
       "      <td>4.075304e+01</td>\n",
       "      <td>4.076800e+01</td>\n",
       "      <td>8.726976e+02</td>\n",
       "    </tr>\n",
       "    <tr>\n",
       "      <th>passenger_count</th>\n",
       "      <td>199999.0</td>\n",
       "      <td>1.684543e+00</td>\n",
       "      <td>1.385995e+00</td>\n",
       "      <td>0.000000</td>\n",
       "      <td>1.000000e+00</td>\n",
       "      <td>1.000000e+00</td>\n",
       "      <td>2.000000e+00</td>\n",
       "      <td>2.080000e+02</td>\n",
       "    </tr>\n",
       "  </tbody>\n",
       "</table>\n",
       "</div>"
      ],
      "text/plain": [
       "                      count          mean           std          min  \\\n",
       "Unnamed: 0         199999.0  2.771248e+07  1.601386e+07     1.000000   \n",
       "fare_amount        199999.0  1.135989e+01  9.901760e+00   -52.000000   \n",
       "pickup_longitude   199999.0 -7.252763e+01  1.143782e+01 -1340.648410   \n",
       "pickup_latitude    199999.0  3.993588e+01  7.720558e+00   -74.015515   \n",
       "dropoff_longitude  199999.0 -7.252529e+01  1.311741e+01 -3356.666300   \n",
       "dropoff_latitude   199999.0  3.992389e+01  6.794829e+00  -881.985513   \n",
       "passenger_count    199999.0  1.684543e+00  1.385995e+00     0.000000   \n",
       "\n",
       "                            25%           50%           75%           max  \n",
       "Unnamed: 0         1.382534e+07  2.774524e+07  4.155535e+07  5.542357e+07  \n",
       "fare_amount        6.000000e+00  8.500000e+00  1.250000e+01  4.990000e+02  \n",
       "pickup_longitude  -7.399206e+01 -7.398182e+01 -7.396715e+01  5.741846e+01  \n",
       "pickup_latitude    4.073480e+01  4.075259e+01  4.076716e+01  1.644421e+03  \n",
       "dropoff_longitude -7.399141e+01 -7.398009e+01 -7.396366e+01  1.153573e+03  \n",
       "dropoff_latitude   4.073382e+01  4.075304e+01  4.076800e+01  8.726976e+02  \n",
       "passenger_count    1.000000e+00  1.000000e+00  2.000000e+00  2.080000e+02  "
      ]
     },
     "execution_count": 12,
     "metadata": {},
     "output_type": "execute_result"
    }
   ],
   "source": [
    "df.describe().T"
   ]
  },
  {
   "cell_type": "code",
   "execution_count": 13,
   "id": "34bbda79-5b5c-48c6-9b9d-1244e25a0127",
   "metadata": {},
   "outputs": [],
   "source": [
    "df[df['fare_amount'] <= 0]"
   ]
  },
  {
   "cell_type": "code",
   "execution_count": 14,
   "id": "a8161b01-de40-400b-8d47-bee02867b646",
   "metadata": {},
   "outputs": [
    {
     "data": {
      "text/html": [
       "<div>\n",
       "<style scoped>\n",
       "    .dataframe tbody tr th:only-of-type {\n",
       "        vertical-align: middle;\n",
       "    }\n",
       "\n",
       "    .dataframe tbody tr th {\n",
       "        vertical-align: top;\n",
       "    }\n",
       "\n",
       "    .dataframe thead th {\n",
       "        text-align: right;\n",
       "    }\n",
       "</style>\n",
       "<table border=\"1\" class=\"dataframe\">\n",
       "  <thead>\n",
       "    <tr style=\"text-align: right;\">\n",
       "      <th></th>\n",
       "      <th>count</th>\n",
       "      <th>mean</th>\n",
       "      <th>std</th>\n",
       "      <th>min</th>\n",
       "      <th>25%</th>\n",
       "      <th>50%</th>\n",
       "      <th>75%</th>\n",
       "      <th>max</th>\n",
       "    </tr>\n",
       "  </thead>\n",
       "  <tbody>\n",
       "    <tr>\n",
       "      <th>Unnamed: 0</th>\n",
       "      <td>172679.0</td>\n",
       "      <td>2.772109e+07</td>\n",
       "      <td>1.600770e+07</td>\n",
       "      <td>1.000000</td>\n",
       "      <td>1.385852e+07</td>\n",
       "      <td>2.774524e+07</td>\n",
       "      <td>4.154940e+07</td>\n",
       "      <td>5.542290e+07</td>\n",
       "    </tr>\n",
       "    <tr>\n",
       "      <th>fare_amount</th>\n",
       "      <td>172679.0</td>\n",
       "      <td>1.249701e+01</td>\n",
       "      <td>1.019571e+01</td>\n",
       "      <td>5.000000</td>\n",
       "      <td>6.900000e+00</td>\n",
       "      <td>9.300000e+00</td>\n",
       "      <td>1.370000e+01</td>\n",
       "      <td>4.990000e+02</td>\n",
       "    </tr>\n",
       "    <tr>\n",
       "      <th>pickup_longitude</th>\n",
       "      <td>172679.0</td>\n",
       "      <td>-7.253622e+01</td>\n",
       "      <td>1.120264e+01</td>\n",
       "      <td>-1340.648410</td>\n",
       "      <td>-7.399227e+01</td>\n",
       "      <td>-7.398197e+01</td>\n",
       "      <td>-7.396739e+01</td>\n",
       "      <td>5.741846e+01</td>\n",
       "    </tr>\n",
       "    <tr>\n",
       "      <th>pickup_latitude</th>\n",
       "      <td>172679.0</td>\n",
       "      <td>3.994568e+01</td>\n",
       "      <td>7.942683e+00</td>\n",
       "      <td>-74.015515</td>\n",
       "      <td>4.073409e+01</td>\n",
       "      <td>4.075221e+01</td>\n",
       "      <td>4.076669e+01</td>\n",
       "      <td>1.644421e+03</td>\n",
       "    </tr>\n",
       "    <tr>\n",
       "      <th>dropoff_longitude</th>\n",
       "      <td>172679.0</td>\n",
       "      <td>-7.255497e+01</td>\n",
       "      <td>1.342776e+01</td>\n",
       "      <td>-3356.666300</td>\n",
       "      <td>-7.399152e+01</td>\n",
       "      <td>-7.398009e+01</td>\n",
       "      <td>-7.396332e+01</td>\n",
       "      <td>1.153573e+03</td>\n",
       "    </tr>\n",
       "    <tr>\n",
       "      <th>dropoff_latitude</th>\n",
       "      <td>172679.0</td>\n",
       "      <td>3.993742e+01</td>\n",
       "      <td>6.877610e+00</td>\n",
       "      <td>-881.985513</td>\n",
       "      <td>4.073266e+01</td>\n",
       "      <td>4.075265e+01</td>\n",
       "      <td>4.076753e+01</td>\n",
       "      <td>8.726976e+02</td>\n",
       "    </tr>\n",
       "    <tr>\n",
       "      <th>passenger_count</th>\n",
       "      <td>172679.0</td>\n",
       "      <td>1.693640e+00</td>\n",
       "      <td>1.404312e+00</td>\n",
       "      <td>0.000000</td>\n",
       "      <td>1.000000e+00</td>\n",
       "      <td>1.000000e+00</td>\n",
       "      <td>2.000000e+00</td>\n",
       "      <td>2.080000e+02</td>\n",
       "    </tr>\n",
       "  </tbody>\n",
       "</table>\n",
       "</div>"
      ],
      "text/plain": [
       "                      count          mean           std          min  \\\n",
       "Unnamed: 0         172679.0  2.772109e+07  1.600770e+07     1.000000   \n",
       "fare_amount        172679.0  1.249701e+01  1.019571e+01     5.000000   \n",
       "pickup_longitude   172679.0 -7.253622e+01  1.120264e+01 -1340.648410   \n",
       "pickup_latitude    172679.0  3.994568e+01  7.942683e+00   -74.015515   \n",
       "dropoff_longitude  172679.0 -7.255497e+01  1.342776e+01 -3356.666300   \n",
       "dropoff_latitude   172679.0  3.993742e+01  6.877610e+00  -881.985513   \n",
       "passenger_count    172679.0  1.693640e+00  1.404312e+00     0.000000   \n",
       "\n",
       "                            25%           50%           75%           max  \n",
       "Unnamed: 0         1.385852e+07  2.774524e+07  4.154940e+07  5.542290e+07  \n",
       "fare_amount        6.900000e+00  9.300000e+00  1.370000e+01  4.990000e+02  \n",
       "pickup_longitude  -7.399227e+01 -7.398197e+01 -7.396739e+01  5.741846e+01  \n",
       "pickup_latitude    4.073409e+01  4.075221e+01  4.076669e+01  1.644421e+03  \n",
       "dropoff_longitude -7.399152e+01 -7.398009e+01 -7.396332e+01  1.153573e+03  \n",
       "dropoff_latitude   4.073266e+01  4.075265e+01  4.076753e+01  8.726976e+02  \n",
       "passenger_count    1.000000e+00  1.000000e+00  2.000000e+00  2.080000e+02  "
      ]
     },
     "execution_count": 14,
     "metadata": {},
     "output_type": "execute_result"
    }
   ],
   "source": [
    "df.describe().T"
   ]
  },
  {
   "cell_type": "code",
   "execution_count": null,
   "id": "9791aa23-4728-481d-838b-c01610fbfbb3",
   "metadata": {},
   "outputs": [],
   "source": []
  }
 ],
 "metadata": {
  "kernelspec": {
   "display_name": "Python 3 (ipykernel)",
   "language": "python",
   "name": "python3"
  },
  "language_info": {
   "codemirror_mode": {
    "name": "ipython",
    "version": 3
   },
   "file_extension": ".py",
   "mimetype": "text/x-python",
   "name": "python",
   "nbconvert_exporter": "python",
   "pygments_lexer": "ipython3",
   "version": "3.12.7"
  }
 },
 "nbformat": 4,
 "nbformat_minor": 5
}

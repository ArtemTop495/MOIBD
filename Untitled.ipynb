{
 "cells": [
  {
   "cell_type": "markdown",
   "id": "71bccf14-d224-45b9-a86f-b12e30f6dd5e",
   "metadata": {},
   "source": [
    "#### Описание\n",
    "Этот набор данных содержит более 80 000 сообщений о наблюдениях НЛО за последнее столетие."
   ]
  },
  {
   "cell_type": "markdown",
   "id": "4c89634e-a3cc-444c-8d27-b40efbd33309",
   "metadata": {},
   "source": [
    "### Подключение модулей"
   ]
  },
  {
   "cell_type": "code",
   "execution_count": 3,
   "id": "fd115a9e-7bda-49a5-a692-d7689373add3",
   "metadata": {},
   "outputs": [],
   "source": [
    "import pandas as pd   \n",
    "import numpy as np\n",
    "import seaborn as sns    \n",
    "import matplotlib.pyplot as plt\n",
    "import warnings\n",
    "warnings.filterwarnings('ignore')\n",
    "\n",
    "%matplotlib inline"
   ]
  },
  {
   "cell_type": "markdown",
   "id": "85d35b57-ca28-4614-b18a-ad127d83a14b",
   "metadata": {},
   "source": [
    "### Загрузка данных"
   ]
  },
  {
   "cell_type": "code",
   "execution_count": 5,
   "id": "7b9cf745-5907-4d56-9f50-96c4c129e968",
   "metadata": {},
   "outputs": [
    {
     "data": {
      "text/html": [
       "<div>\n",
       "<style scoped>\n",
       "    .dataframe tbody tr th:only-of-type {\n",
       "        vertical-align: middle;\n",
       "    }\n",
       "\n",
       "    .dataframe tbody tr th {\n",
       "        vertical-align: top;\n",
       "    }\n",
       "\n",
       "    .dataframe thead th {\n",
       "        text-align: right;\n",
       "    }\n",
       "</style>\n",
       "<table border=\"1\" class=\"dataframe\">\n",
       "  <thead>\n",
       "    <tr style=\"text-align: right;\">\n",
       "      <th></th>\n",
       "      <th>datetime</th>\n",
       "      <th>city</th>\n",
       "      <th>state</th>\n",
       "      <th>country</th>\n",
       "      <th>ufo_shape</th>\n",
       "      <th>duration_seconds</th>\n",
       "      <th>duration_hours_min</th>\n",
       "      <th>comments</th>\n",
       "      <th>date_posted</th>\n",
       "      <th>latitude</th>\n",
       "      <th>longitude</th>\n",
       "    </tr>\n",
       "  </thead>\n",
       "  <tbody>\n",
       "    <tr>\n",
       "      <th>0</th>\n",
       "      <td>5/15/1994 13:00</td>\n",
       "      <td>antarctica (ross ice shelf) (antarctica)</td>\n",
       "      <td>NaN</td>\n",
       "      <td>NaN</td>\n",
       "      <td>fireball</td>\n",
       "      <td>2.000</td>\n",
       "      <td>2 seconds</td>\n",
       "      <td>green fireball streaking across the ski in a s...</td>\n",
       "      <td>1/28/1999</td>\n",
       "      <td>-82.862752</td>\n",
       "      <td>-135.000000</td>\n",
       "    </tr>\n",
       "    <tr>\n",
       "      <th>1</th>\n",
       "      <td>4/14/2002 22:22</td>\n",
       "      <td>invercargill (new zealand)</td>\n",
       "      <td>NaN</td>\n",
       "      <td>NaN</td>\n",
       "      <td>unknown</td>\n",
       "      <td>12.000</td>\n",
       "      <td>9-12 sec.</td>\n",
       "      <td>object seems to disintergrate as if re-enterin...</td>\n",
       "      <td>5/14/2002</td>\n",
       "      <td>-46.413187</td>\n",
       "      <td>168.353773</td>\n",
       "    </tr>\n",
       "    <tr>\n",
       "      <th>2</th>\n",
       "      <td>10/23/2008 04:45</td>\n",
       "      <td>remote</td>\n",
       "      <td>wy</td>\n",
       "      <td>NaN</td>\n",
       "      <td>flash</td>\n",
       "      <td>0.001</td>\n",
       "      <td>0.001sec</td>\n",
       "      <td>brilliant strobe light at 4am&amp;#44 moving light...</td>\n",
       "      <td>01/10/2009</td>\n",
       "      <td>-46.163992</td>\n",
       "      <td>169.875050</td>\n",
       "    </tr>\n",
       "    <tr>\n",
       "      <th>3</th>\n",
       "      <td>03/11/2009 00:00</td>\n",
       "      <td>oamaru (new zealand)</td>\n",
       "      <td>NaN</td>\n",
       "      <td>NaN</td>\n",
       "      <td>changing</td>\n",
       "      <td>30.000</td>\n",
       "      <td>30 sec</td>\n",
       "      <td>flying car that person walked out of after crash</td>\n",
       "      <td>3/19/2009</td>\n",
       "      <td>-45.097512</td>\n",
       "      <td>170.970415</td>\n",
       "    </tr>\n",
       "    <tr>\n",
       "      <th>4</th>\n",
       "      <td>3/28/2012 06:30</td>\n",
       "      <td>queentown (close to) (new zealand)</td>\n",
       "      <td>NaN</td>\n",
       "      <td>NaN</td>\n",
       "      <td>light</td>\n",
       "      <td>30.000</td>\n",
       "      <td>30 seconds</td>\n",
       "      <td>Light cross the sky dogging moviments</td>\n",
       "      <td>5/13/2012</td>\n",
       "      <td>-45.031162</td>\n",
       "      <td>168.662644</td>\n",
       "    </tr>\n",
       "  </tbody>\n",
       "</table>\n",
       "</div>"
      ],
      "text/plain": [
       "           datetime                                      city state country  \\\n",
       "0   5/15/1994 13:00  antarctica (ross ice shelf) (antarctica)   NaN     NaN   \n",
       "1   4/14/2002 22:22                invercargill (new zealand)   NaN     NaN   \n",
       "2  10/23/2008 04:45                                    remote    wy     NaN   \n",
       "3  03/11/2009 00:00                      oamaru (new zealand)   NaN     NaN   \n",
       "4   3/28/2012 06:30        queentown (close to) (new zealand)   NaN     NaN   \n",
       "\n",
       "  ufo_shape  duration_seconds duration_hours_min  \\\n",
       "0  fireball             2.000          2 seconds   \n",
       "1   unknown            12.000          9-12 sec.   \n",
       "2     flash             0.001           0.001sec   \n",
       "3  changing            30.000             30 sec   \n",
       "4     light            30.000         30 seconds   \n",
       "\n",
       "                                            comments date_posted   latitude  \\\n",
       "0  green fireball streaking across the ski in a s...   1/28/1999 -82.862752   \n",
       "1  object seems to disintergrate as if re-enterin...   5/14/2002 -46.413187   \n",
       "2  brilliant strobe light at 4am&#44 moving light...  01/10/2009 -46.163992   \n",
       "3   flying car that person walked out of after crash   3/19/2009 -45.097512   \n",
       "4              Light cross the sky dogging moviments   5/13/2012 -45.031162   \n",
       "\n",
       "    longitude  \n",
       "0 -135.000000  \n",
       "1  168.353773  \n",
       "2  169.875050  \n",
       "3  170.970415  \n",
       "4  168.662644  "
      ]
     },
     "execution_count": 5,
     "metadata": {},
     "output_type": "execute_result"
    }
   ],
   "source": [
    "df = pd.read_csv('scrubbed.csv')\n",
    "df.head()"
   ]
  },
  {
   "cell_type": "code",
   "execution_count": 6,
   "id": "af17de61-7718-463a-a77a-2dd6f7b82b30",
   "metadata": {},
   "outputs": [
    {
     "name": "stdout",
     "output_type": "stream",
     "text": [
      "<class 'pandas.core.frame.DataFrame'>\n",
      "RangeIndex: 80332 entries, 0 to 80331\n",
      "Data columns (total 11 columns):\n",
      " #   Column              Non-Null Count  Dtype  \n",
      "---  ------              --------------  -----  \n",
      " 0   datetime            80328 non-null  object \n",
      " 1   city                80328 non-null  object \n",
      " 2   state               74532 non-null  object \n",
      " 3   country             70660 non-null  object \n",
      " 4   ufo_shape           78398 non-null  object \n",
      " 5   duration_seconds    80328 non-null  float64\n",
      " 6   duration_hours_min  80328 non-null  object \n",
      " 7   comments            80313 non-null  object \n",
      " 8   date_posted         80328 non-null  object \n",
      " 9   latitude            80328 non-null  float64\n",
      " 10  longitude           80328 non-null  float64\n",
      "dtypes: float64(3), object(8)\n",
      "memory usage: 6.7+ MB\n"
     ]
    }
   ],
   "source": [
    "df.info()"
   ]
  },
  {
   "cell_type": "markdown",
   "id": "20a549bf-c94f-439d-96b8-b7f4c0471705",
   "metadata": {},
   "source": [
    "#### Описание данных"
   ]
  },
  {
   "cell_type": "markdown",
   "id": "2928e35b-2158-49c2-96da-718fb8e7afa5",
   "metadata": {},
   "source": [
    "- **datetime (Дата)** - Дата обнаружения НЛО.\n",
    "- **city (Город)** - Город в котором обнаружили НЛО.\n",
    "- **state (Штат)** - Штат в котором обнаружили НЛО.\n",
    "- **country (Страна)** - Страна в которой обнаружили НЛО.\n",
    "- **shape (Форма)** - Форма НЛО.\n",
    "- **duration(seconds) (Длительность(секунды))** - Продолжиетльность наблюдения НЛО в секундах.\n",
    "- **duration(hours/min) (Длительность(часы/минуты))** - Продолжиетльность наблюдения НЛО в часах/минутах.\n",
    "- **coments (коментарии)** - Коментарии наблюдателя.\n",
    "- **date posted (дата публикации)** - Дата публикации наблюдения.\n",
    "- **coments (коментарии)** - Коментарии наблюдателя.\n",
    "- **latitude (широта)** - широта на которой наблюдали НЛО.\n",
    "- **longitude (долгота)** - долгота на которой наблюдали НЛО."
   ]
  },
  {
   "cell_type": "code",
   "execution_count": 9,
   "id": "dacaf8a3-aa19-47de-be0f-2e23445cd140",
   "metadata": {},
   "outputs": [
    {
     "data": {
      "text/plain": [
       "(80332, 11)"
      ]
     },
     "execution_count": 9,
     "metadata": {},
     "output_type": "execute_result"
    }
   ],
   "source": [
    "df.shape"
   ]
  },
  {
   "cell_type": "code",
   "execution_count": 10,
   "id": "3a116fb7-f20f-4346-af7d-828b0d2b136e",
   "metadata": {},
   "outputs": [
    {
     "data": {
      "text/html": [
       "<div>\n",
       "<style scoped>\n",
       "    .dataframe tbody tr th:only-of-type {\n",
       "        vertical-align: middle;\n",
       "    }\n",
       "\n",
       "    .dataframe tbody tr th {\n",
       "        vertical-align: top;\n",
       "    }\n",
       "\n",
       "    .dataframe thead th {\n",
       "        text-align: right;\n",
       "    }\n",
       "</style>\n",
       "<table border=\"1\" class=\"dataframe\">\n",
       "  <thead>\n",
       "    <tr style=\"text-align: right;\">\n",
       "      <th></th>\n",
       "      <th>count</th>\n",
       "      <th>unique</th>\n",
       "      <th>top</th>\n",
       "      <th>freq</th>\n",
       "      <th>mean</th>\n",
       "      <th>std</th>\n",
       "      <th>min</th>\n",
       "      <th>25%</th>\n",
       "      <th>50%</th>\n",
       "      <th>75%</th>\n",
       "      <th>max</th>\n",
       "    </tr>\n",
       "  </thead>\n",
       "  <tbody>\n",
       "    <tr>\n",
       "      <th>datetime</th>\n",
       "      <td>80328</td>\n",
       "      <td>69582</td>\n",
       "      <td>07/04/2010 22:00</td>\n",
       "      <td>36</td>\n",
       "      <td>NaN</td>\n",
       "      <td>NaN</td>\n",
       "      <td>NaN</td>\n",
       "      <td>NaN</td>\n",
       "      <td>NaN</td>\n",
       "      <td>NaN</td>\n",
       "      <td>NaN</td>\n",
       "    </tr>\n",
       "    <tr>\n",
       "      <th>city</th>\n",
       "      <td>80328</td>\n",
       "      <td>19898</td>\n",
       "      <td>seattle</td>\n",
       "      <td>525</td>\n",
       "      <td>NaN</td>\n",
       "      <td>NaN</td>\n",
       "      <td>NaN</td>\n",
       "      <td>NaN</td>\n",
       "      <td>NaN</td>\n",
       "      <td>NaN</td>\n",
       "      <td>NaN</td>\n",
       "    </tr>\n",
       "    <tr>\n",
       "      <th>state</th>\n",
       "      <td>74532</td>\n",
       "      <td>67</td>\n",
       "      <td>ca</td>\n",
       "      <td>9654</td>\n",
       "      <td>NaN</td>\n",
       "      <td>NaN</td>\n",
       "      <td>NaN</td>\n",
       "      <td>NaN</td>\n",
       "      <td>NaN</td>\n",
       "      <td>NaN</td>\n",
       "      <td>NaN</td>\n",
       "    </tr>\n",
       "    <tr>\n",
       "      <th>country</th>\n",
       "      <td>70660</td>\n",
       "      <td>5</td>\n",
       "      <td>us</td>\n",
       "      <td>65112</td>\n",
       "      <td>NaN</td>\n",
       "      <td>NaN</td>\n",
       "      <td>NaN</td>\n",
       "      <td>NaN</td>\n",
       "      <td>NaN</td>\n",
       "      <td>NaN</td>\n",
       "      <td>NaN</td>\n",
       "    </tr>\n",
       "    <tr>\n",
       "      <th>ufo_shape</th>\n",
       "      <td>78398</td>\n",
       "      <td>29</td>\n",
       "      <td>light</td>\n",
       "      <td>16565</td>\n",
       "      <td>NaN</td>\n",
       "      <td>NaN</td>\n",
       "      <td>NaN</td>\n",
       "      <td>NaN</td>\n",
       "      <td>NaN</td>\n",
       "      <td>NaN</td>\n",
       "      <td>NaN</td>\n",
       "    </tr>\n",
       "    <tr>\n",
       "      <th>duration_seconds</th>\n",
       "      <td>80328.0</td>\n",
       "      <td>NaN</td>\n",
       "      <td>NaN</td>\n",
       "      <td>NaN</td>\n",
       "      <td>9017.335648</td>\n",
       "      <td>620232.229169</td>\n",
       "      <td>0.001</td>\n",
       "      <td>30.0</td>\n",
       "      <td>180.0</td>\n",
       "      <td>600.0</td>\n",
       "      <td>97836000.0</td>\n",
       "    </tr>\n",
       "    <tr>\n",
       "      <th>duration_hours_min</th>\n",
       "      <td>80328</td>\n",
       "      <td>8301</td>\n",
       "      <td>5 minutes</td>\n",
       "      <td>4716</td>\n",
       "      <td>NaN</td>\n",
       "      <td>NaN</td>\n",
       "      <td>NaN</td>\n",
       "      <td>NaN</td>\n",
       "      <td>NaN</td>\n",
       "      <td>NaN</td>\n",
       "      <td>NaN</td>\n",
       "    </tr>\n",
       "    <tr>\n",
       "      <th>comments</th>\n",
       "      <td>80313</td>\n",
       "      <td>79993</td>\n",
       "      <td>Fireball</td>\n",
       "      <td>11</td>\n",
       "      <td>NaN</td>\n",
       "      <td>NaN</td>\n",
       "      <td>NaN</td>\n",
       "      <td>NaN</td>\n",
       "      <td>NaN</td>\n",
       "      <td>NaN</td>\n",
       "      <td>NaN</td>\n",
       "    </tr>\n",
       "    <tr>\n",
       "      <th>date_posted</th>\n",
       "      <td>80328</td>\n",
       "      <td>317</td>\n",
       "      <td>12/12/2009</td>\n",
       "      <td>1510</td>\n",
       "      <td>NaN</td>\n",
       "      <td>NaN</td>\n",
       "      <td>NaN</td>\n",
       "      <td>NaN</td>\n",
       "      <td>NaN</td>\n",
       "      <td>NaN</td>\n",
       "      <td>NaN</td>\n",
       "    </tr>\n",
       "    <tr>\n",
       "      <th>latitude</th>\n",
       "      <td>80328.0</td>\n",
       "      <td>NaN</td>\n",
       "      <td>NaN</td>\n",
       "      <td>NaN</td>\n",
       "      <td>38.124963</td>\n",
       "      <td>10.469146</td>\n",
       "      <td>-82.862752</td>\n",
       "      <td>34.134722</td>\n",
       "      <td>39.4125</td>\n",
       "      <td>42.788333</td>\n",
       "      <td>72.7</td>\n",
       "    </tr>\n",
       "    <tr>\n",
       "      <th>longitude</th>\n",
       "      <td>80328.0</td>\n",
       "      <td>NaN</td>\n",
       "      <td>NaN</td>\n",
       "      <td>NaN</td>\n",
       "      <td>-86.772015</td>\n",
       "      <td>39.697805</td>\n",
       "      <td>-176.658056</td>\n",
       "      <td>-112.073333</td>\n",
       "      <td>-87.903611</td>\n",
       "      <td>-78.755</td>\n",
       "      <td>178.4419</td>\n",
       "    </tr>\n",
       "  </tbody>\n",
       "</table>\n",
       "</div>"
      ],
      "text/plain": [
       "                      count unique               top   freq         mean  \\\n",
       "datetime              80328  69582  07/04/2010 22:00     36          NaN   \n",
       "city                  80328  19898           seattle    525          NaN   \n",
       "state                 74532     67                ca   9654          NaN   \n",
       "country               70660      5                us  65112          NaN   \n",
       "ufo_shape             78398     29             light  16565          NaN   \n",
       "duration_seconds    80328.0    NaN               NaN    NaN  9017.335648   \n",
       "duration_hours_min    80328   8301         5 minutes   4716          NaN   \n",
       "comments              80313  79993          Fireball     11          NaN   \n",
       "date_posted           80328    317        12/12/2009   1510          NaN   \n",
       "latitude            80328.0    NaN               NaN    NaN    38.124963   \n",
       "longitude           80328.0    NaN               NaN    NaN   -86.772015   \n",
       "\n",
       "                              std         min         25%        50%  \\\n",
       "datetime                      NaN         NaN         NaN        NaN   \n",
       "city                          NaN         NaN         NaN        NaN   \n",
       "state                         NaN         NaN         NaN        NaN   \n",
       "country                       NaN         NaN         NaN        NaN   \n",
       "ufo_shape                     NaN         NaN         NaN        NaN   \n",
       "duration_seconds    620232.229169       0.001        30.0      180.0   \n",
       "duration_hours_min            NaN         NaN         NaN        NaN   \n",
       "comments                      NaN         NaN         NaN        NaN   \n",
       "date_posted                   NaN         NaN         NaN        NaN   \n",
       "latitude                10.469146  -82.862752   34.134722    39.4125   \n",
       "longitude               39.697805 -176.658056 -112.073333 -87.903611   \n",
       "\n",
       "                          75%         max  \n",
       "datetime                  NaN         NaN  \n",
       "city                      NaN         NaN  \n",
       "state                     NaN         NaN  \n",
       "country                   NaN         NaN  \n",
       "ufo_shape                 NaN         NaN  \n",
       "duration_seconds        600.0  97836000.0  \n",
       "duration_hours_min        NaN         NaN  \n",
       "comments                  NaN         NaN  \n",
       "date_posted               NaN         NaN  \n",
       "latitude            42.788333        72.7  \n",
       "longitude             -78.755    178.4419  "
      ]
     },
     "execution_count": 10,
     "metadata": {},
     "output_type": "execute_result"
    }
   ],
   "source": [
    "df.describe(include='all').T"
   ]
  },
  {
   "cell_type": "code",
   "execution_count": 11,
   "id": "5355d02b-f11f-42a8-8ddc-b4960f0d845d",
   "metadata": {},
   "outputs": [
    {
     "data": {
      "text/html": [
       "<div>\n",
       "<style scoped>\n",
       "    .dataframe tbody tr th:only-of-type {\n",
       "        vertical-align: middle;\n",
       "    }\n",
       "\n",
       "    .dataframe tbody tr th {\n",
       "        vertical-align: top;\n",
       "    }\n",
       "\n",
       "    .dataframe thead th {\n",
       "        text-align: right;\n",
       "    }\n",
       "</style>\n",
       "<table border=\"1\" class=\"dataframe\">\n",
       "  <thead>\n",
       "    <tr style=\"text-align: right;\">\n",
       "      <th></th>\n",
       "      <th>count</th>\n",
       "      <th>mean</th>\n",
       "      <th>std</th>\n",
       "      <th>min</th>\n",
       "      <th>25%</th>\n",
       "      <th>50%</th>\n",
       "      <th>75%</th>\n",
       "      <th>max</th>\n",
       "    </tr>\n",
       "  </thead>\n",
       "  <tbody>\n",
       "    <tr>\n",
       "      <th>duration_seconds</th>\n",
       "      <td>80328.0</td>\n",
       "      <td>9017.335648</td>\n",
       "      <td>620232.229169</td>\n",
       "      <td>0.001000</td>\n",
       "      <td>30.000000</td>\n",
       "      <td>180.000000</td>\n",
       "      <td>600.000000</td>\n",
       "      <td>9.783600e+07</td>\n",
       "    </tr>\n",
       "    <tr>\n",
       "      <th>latitude</th>\n",
       "      <td>80328.0</td>\n",
       "      <td>38.124963</td>\n",
       "      <td>10.469146</td>\n",
       "      <td>-82.862752</td>\n",
       "      <td>34.134722</td>\n",
       "      <td>39.412500</td>\n",
       "      <td>42.788333</td>\n",
       "      <td>7.270000e+01</td>\n",
       "    </tr>\n",
       "    <tr>\n",
       "      <th>longitude</th>\n",
       "      <td>80328.0</td>\n",
       "      <td>-86.772015</td>\n",
       "      <td>39.697805</td>\n",
       "      <td>-176.658056</td>\n",
       "      <td>-112.073333</td>\n",
       "      <td>-87.903611</td>\n",
       "      <td>-78.755000</td>\n",
       "      <td>1.784419e+02</td>\n",
       "    </tr>\n",
       "  </tbody>\n",
       "</table>\n",
       "</div>"
      ],
      "text/plain": [
       "                    count         mean            std         min         25%  \\\n",
       "duration_seconds  80328.0  9017.335648  620232.229169    0.001000   30.000000   \n",
       "latitude          80328.0    38.124963      10.469146  -82.862752   34.134722   \n",
       "longitude         80328.0   -86.772015      39.697805 -176.658056 -112.073333   \n",
       "\n",
       "                         50%         75%           max  \n",
       "duration_seconds  180.000000  600.000000  9.783600e+07  \n",
       "latitude           39.412500   42.788333  7.270000e+01  \n",
       "longitude         -87.903611  -78.755000  1.784419e+02  "
      ]
     },
     "execution_count": 11,
     "metadata": {},
     "output_type": "execute_result"
    }
   ],
   "source": [
    "df.describe().T"
   ]
  },
  {
   "cell_type": "code",
   "execution_count": 12,
   "id": "91f0c968-1c8b-493f-be7f-6b1df4fe1ad1",
   "metadata": {},
   "outputs": [
    {
     "data": {
      "text/html": [
       "<div>\n",
       "<style scoped>\n",
       "    .dataframe tbody tr th:only-of-type {\n",
       "        vertical-align: middle;\n",
       "    }\n",
       "\n",
       "    .dataframe tbody tr th {\n",
       "        vertical-align: top;\n",
       "    }\n",
       "\n",
       "    .dataframe thead th {\n",
       "        text-align: right;\n",
       "    }\n",
       "</style>\n",
       "<table border=\"1\" class=\"dataframe\">\n",
       "  <thead>\n",
       "    <tr style=\"text-align: right;\">\n",
       "      <th></th>\n",
       "      <th>datetime</th>\n",
       "      <th>city</th>\n",
       "      <th>state</th>\n",
       "      <th>country</th>\n",
       "      <th>ufo_shape</th>\n",
       "      <th>duration_hours_min</th>\n",
       "      <th>comments</th>\n",
       "      <th>date_posted</th>\n",
       "    </tr>\n",
       "  </thead>\n",
       "  <tbody>\n",
       "    <tr>\n",
       "      <th>count</th>\n",
       "      <td>80328</td>\n",
       "      <td>80328</td>\n",
       "      <td>74532</td>\n",
       "      <td>70660</td>\n",
       "      <td>78398</td>\n",
       "      <td>80328</td>\n",
       "      <td>80313</td>\n",
       "      <td>80328</td>\n",
       "    </tr>\n",
       "    <tr>\n",
       "      <th>unique</th>\n",
       "      <td>69582</td>\n",
       "      <td>19898</td>\n",
       "      <td>67</td>\n",
       "      <td>5</td>\n",
       "      <td>29</td>\n",
       "      <td>8301</td>\n",
       "      <td>79993</td>\n",
       "      <td>317</td>\n",
       "    </tr>\n",
       "    <tr>\n",
       "      <th>top</th>\n",
       "      <td>07/04/2010 22:00</td>\n",
       "      <td>seattle</td>\n",
       "      <td>ca</td>\n",
       "      <td>us</td>\n",
       "      <td>light</td>\n",
       "      <td>5 minutes</td>\n",
       "      <td>Fireball</td>\n",
       "      <td>12/12/2009</td>\n",
       "    </tr>\n",
       "    <tr>\n",
       "      <th>freq</th>\n",
       "      <td>36</td>\n",
       "      <td>525</td>\n",
       "      <td>9654</td>\n",
       "      <td>65112</td>\n",
       "      <td>16565</td>\n",
       "      <td>4716</td>\n",
       "      <td>11</td>\n",
       "      <td>1510</td>\n",
       "    </tr>\n",
       "  </tbody>\n",
       "</table>\n",
       "</div>"
      ],
      "text/plain": [
       "                datetime     city  state country ufo_shape duration_hours_min  \\\n",
       "count              80328    80328  74532   70660     78398              80328   \n",
       "unique             69582    19898     67       5        29               8301   \n",
       "top     07/04/2010 22:00  seattle     ca      us     light          5 minutes   \n",
       "freq                  36      525   9654   65112     16565               4716   \n",
       "\n",
       "        comments date_posted  \n",
       "count      80313       80328  \n",
       "unique     79993         317  \n",
       "top     Fireball  12/12/2009  \n",
       "freq          11        1510  "
      ]
     },
     "execution_count": 12,
     "metadata": {},
     "output_type": "execute_result"
    }
   ],
   "source": [
    "df.describe(include=[object])"
   ]
  },
  {
   "cell_type": "code",
   "execution_count": 13,
   "id": "0d30bac8-d4d2-49aa-8db4-94c1f8284896",
   "metadata": {},
   "outputs": [
    {
     "data": {
      "text/plain": [
       "datetime               object\n",
       "city                   object\n",
       "state                  object\n",
       "country                object\n",
       "ufo_shape              object\n",
       "duration_seconds      float64\n",
       "duration_hours_min     object\n",
       "comments               object\n",
       "date_posted            object\n",
       "latitude              float64\n",
       "longitude             float64\n",
       "dtype: object"
      ]
     },
     "execution_count": 13,
     "metadata": {},
     "output_type": "execute_result"
    }
   ],
   "source": [
    "df.dtypes"
   ]
  },
  {
   "cell_type": "code",
   "execution_count": 14,
   "id": "ee60a2bf-880f-4119-b3aa-5c1cbab36fc8",
   "metadata": {},
   "outputs": [
    {
     "data": {
      "text/plain": [
       "Index(['datetime', 'city', 'state', 'country', 'ufo_shape', 'duration_seconds',\n",
       "       'duration_hours_min', 'comments', 'date_posted', 'latitude',\n",
       "       'longitude'],\n",
       "      dtype='object')"
      ]
     },
     "execution_count": 14,
     "metadata": {},
     "output_type": "execute_result"
    }
   ],
   "source": [
    "df.columns"
   ]
  },
  {
   "cell_type": "code",
   "execution_count": 15,
   "id": "b395475b-4199-4e71-ad92-c72f39364068",
   "metadata": {},
   "outputs": [
    {
     "data": {
      "text/plain": [
       "datetime                 4\n",
       "city                     4\n",
       "state                 5800\n",
       "country               9672\n",
       "ufo_shape             1934\n",
       "duration_seconds         4\n",
       "duration_hours_min       4\n",
       "comments                19\n",
       "date_posted              4\n",
       "latitude                 4\n",
       "longitude                4\n",
       "dtype: int64"
      ]
     },
     "execution_count": 15,
     "metadata": {},
     "output_type": "execute_result"
    }
   ],
   "source": [
    "# проверка на отсутствующие значения для всех колонок датафрейма\n",
    "df.isna().sum()"
   ]
  },
  {
   "cell_type": "code",
   "execution_count": 16,
   "id": "2eb982bf-e4f5-4fea-9290-7c2d746a65a9",
   "metadata": {},
   "outputs": [
    {
     "name": "stdout",
     "output_type": "stream",
     "text": [
      "Кол-во пропусков в колонке datetime = 4\n",
      "Кол-во пропусков в колонке city = 4\n",
      "Кол-во пропусков в колонке state = 5800\n",
      "Кол-во пропусков в колонке country = 9672\n",
      "Кол-во пропусков в колонке ufo_shape = 1934\n",
      "Кол-во пропусков в колонке duration_seconds = 4\n",
      "Кол-во пропусков в колонке duration_hours_min = 4\n",
      "Кол-во пропусков в колонке comments = 19\n",
      "Кол-во пропусков в колонке date_posted = 4\n",
      "Кол-во пропусков в колонке latitude = 4\n",
      "Кол-во пропусков в колонке longitude = 4\n"
     ]
    }
   ],
   "source": [
    "for col in df.columns:\n",
    "    print('Кол-во пропусков в колонке %s = %d' % (col, df[col].isna().sum()))"
   ]
  },
  {
   "cell_type": "code",
   "execution_count": 17,
   "id": "159b4664-33d9-4e21-b755-bccc055fcc90",
   "metadata": {},
   "outputs": [
    {
     "name": "stdout",
     "output_type": "stream",
     "text": [
      "Кол-во пропусков в колонке datetime = 0.00 % \n",
      "Кол-во пропусков в колонке city = 0.00 % \n",
      "Кол-во пропусков в колонке state = 7.22 % \n",
      "Кол-во пропусков в колонке country = 12.04 % \n",
      "Кол-во пропусков в колонке ufo_shape = 2.41 % \n",
      "Кол-во пропусков в колонке duration_seconds = 0.00 % \n",
      "Кол-во пропусков в колонке duration_hours_min = 0.00 % \n",
      "Кол-во пропусков в колонке comments = 0.02 % \n",
      "Кол-во пропусков в колонке date_posted = 0.00 % \n",
      "Кол-во пропусков в колонке latitude = 0.00 % \n",
      "Кол-во пропусков в колонке longitude = 0.00 % \n"
     ]
    }
   ],
   "source": [
    "for col in df.columns:\n",
    "    print(f'Кол-во пропусков в колонке {col} = {df[col].isna().sum()/df.shape[0] * 100:.2f} % ')"
   ]
  },
  {
   "cell_type": "code",
   "execution_count": 18,
   "id": "e489740e-414b-4433-82b3-bcc39c29dc7c",
   "metadata": {},
   "outputs": [
    {
     "data": {
      "image/png": "[encoded data removed]",
      "text/plain": [
       "<Figure size 800x400 with 1 Axes>"
      ]
     },
     "metadata": {},
     "output_type": "display_data"
    }
   ],
   "source": [
    "# Подсчет пропущенных значений в каждом столбце\n",
    "missing_data = df.isna().sum()/df.shape[0] * 100\n",
    "\n",
    "# Построение гистограммы пропущенных значений\n",
    "missing_data.plot(kind='bar', figsize=(8, 4))\n",
    "plt.title(\"Отсутствующие значения\")\n",
    "plt.ylabel(\"Количество пропущенных значений\")\n",
    "plt.show()"
   ]
  },
  {
   "cell_type": "code",
   "execution_count": 19,
   "id": "b65b92b3-2f66-4925-889a-b0f01399548e",
   "metadata": {},
   "outputs": [
    {
     "data": {
      "text/plain": [
       "3"
      ]
     },
     "execution_count": 19,
     "metadata": {},
     "output_type": "execute_result"
    }
   ],
   "source": [
    "# Проверка на дублирование записей\n",
    "df.duplicated().sum()"
   ]
  },
  {
   "cell_type": "code",
   "execution_count": 20,
   "id": "fe4ec77b-201a-4ccb-b672-a24dda280d83",
   "metadata": {},
   "outputs": [
    {
     "data": {
      "text/plain": [
       "0"
      ]
     },
     "execution_count": 20,
     "metadata": {},
     "output_type": "execute_result"
    }
   ],
   "source": [
    "# удаление явных дубликатов (с удалением старых индексов и формированием новых)\n",
    "\n",
    "df = df.drop_duplicates().reset_index(drop=True)\n",
    "df.duplicated().sum()    # проверка"
   ]
  },
  {
   "cell_type": "code",
   "execution_count": 21,
   "id": "a5141d0e-9e5a-477b-86e5-a189beb6a7bc",
   "metadata": {},
   "outputs": [],
   "source": [
    "df.state.fillna(df['state'].mode()[0], inplace=True )\n",
    "df.country.fillna(df['country'].mode()[0], inplace=True )\n",
    "df.ufo_shape.fillna(df['ufo_shape'].mode()[0], inplace=True )\n",
    "df.datetime.fillna(df['datetime'].mode()[0], inplace=True )\n",
    "df.city.fillna(df['city'].mode()[0], inplace=True )\n",
    "df.duration_seconds.fillna(df['duration_seconds'].mode()[0], inplace=True )\n",
    "df.duration_hours_min.fillna(df['duration_hours_min'].mode()[0], inplace=True )\n",
    "df.comments.fillna(df['comments'].mode()[0], inplace=True )\n",
    "df.date_posted.fillna(df['date_posted'].mode()[0], inplace=True )\n",
    "df.latitude.fillna(df['latitude'].mode()[0], inplace=True )\n",
    "df.longitude.fillna(df['longitude'].mode()[0], inplace=True )"
   ]
  },
  {
   "cell_type": "code",
   "execution_count": 22,
   "id": "026dbb9e-7e9a-4e55-ae2c-86db903e7733",
   "metadata": {},
   "outputs": [
    {
     "data": {
      "text/plain": [
       "datetime              0\n",
       "city                  0\n",
       "state                 0\n",
       "country               0\n",
       "ufo_shape             0\n",
       "duration_seconds      0\n",
       "duration_hours_min    0\n",
       "comments              0\n",
       "date_posted           0\n",
       "latitude              0\n",
       "longitude             0\n",
       "dtype: int64"
      ]
     },
     "execution_count": 22,
     "metadata": {},
     "output_type": "execute_result"
    }
   ],
   "source": [
    "df.isna().sum()"
   ]
  },
  {
   "cell_type": "code",
   "execution_count": null,
   "id": "e6b55202-fc59-42a2-81d3-97571af194ce",
   "metadata": {},
   "outputs": [],
   "source": [
    "for column in df.columns:\n",
    "    plt.figure(figsize=(8, 5))\n",
    "    plt.tight_layout()\n",
    "    \n",
    "    sns.histplot(df[column])\n",
    "    plt.title(f'Distribution of {column}')\n",
    "    plt.xlabel(column)\n",
    "    plt.ylabel('Frequency')\n",
    "    plt.show();"
   ]
  },
  {
   "cell_type": "code",
   "execution_count": null,
   "id": "26a48ba6-4a05-4192-9863-8fbe519be88e",
   "metadata": {},
   "outputs": [],
   "source": [
    "df.hist(figsize=(20,20), bins = 30);"
   ]
  },
  {
   "cell_type": "code",
   "execution_count": null,
   "id": "07810cb8-2e6b-4ab7-9b52-12a0e1f9cc46",
   "metadata": {},
   "outputs": [],
   "source": [
    "for column in df.columns:\n",
    "    if (type(column) != str):\n",
    "        q1 = df[column].quantile(0.25)\n",
    "        q3 = df[column].quantile(0.75)\n",
    "        iqr = q3 - q1\n",
    "        df = df[(df[column] < q3 + 1.5 * iqr) & (df[column] > q1 - 1.5 * iqr)]\n",
    "df"
   ]
  },
  {
   "cell_type": "code",
   "execution_count": null,
   "id": "e047eff5-cb34-4e0a-91a3-5f58f0794895",
   "metadata": {},
   "outputs": [],
   "source": [
    "#sns.pairplot(df)"
   ]
  },
  {
   "cell_type": "code",
   "execution_count": null,
   "id": "b62b71cc-a14c-4e0e-aa94-9e76ad033e76",
   "metadata": {},
   "outputs": [],
   "source": [
    "def plot_exam_score_vs_others(df, exam_col):\n",
    "    continuous_vars = df.select_dtypes(include=['int64', 'float64']).columns.drop(exam_col)\n",
    "    categorical_vars = df.select_dtypes(include=['object', 'category']).columns\n",
    "\n",
    "    for var in continuous_vars:\n",
    "        plt.figure(figsize=(6, 4))\n",
    "        sns.scatterplot(x=df[var], y=df['duration_seconds'])\n",
    "        plt.title(f'duration_seconds vs {var}')\n",
    "        plt.show()\n",
    "\n",
    "    for var in categorical_vars:\n",
    "        plt.figure(figsize=(6, 4))\n",
    "        sns.boxplot(x=df[var], y=df['duration_seconds'])\n",
    "        plt.title(f'duration_seconds vs {var}')\n",
    "        plt.show()\n",
    "\n",
    "# Call the function to plot duration_seconds vs other columns\n",
    "plot_exam_score_vs_others(df, 'duration_seconds')"
   ]
  },
  {
   "cell_type": "code",
   "execution_count": null,
   "id": "4475d63d-0fdd-40f6-b24e-1c030943bc1e",
   "metadata": {},
   "outputs": [],
   "source": [
    "df_categorical_cols =df[categorical_cols]\n",
    "df_numerical_cols =df[numerical_cols]\n",
    "print(df_categorical_cols)\n",
    "print(df_numerical_cols)"
   ]
  },
  {
   "cell_type": "code",
   "execution_count": null,
   "id": "fbb235e3-235f-487d-bfc2-fa91b7b85fa4",
   "metadata": {},
   "outputs": [],
   "source": [
    "# Create a figure to hold the plots\n",
    "num_columns = len(df_categorical_cols.columns)\n",
    "plt.figure(figsize=(15, 5 * (num_columns // 2 + num_columns % 2)))  # Dynamic height based on number of columns\n",
    "\n",
    "# Loop through each column and plot unique values\n",
    "for i, column in enumerate(df_categorical_cols.columns):\n",
    "    plt.subplot((num_columns // 2 + num_columns % 2), 2, i + 1)  # Create subplots\n",
    "    unique_values = df_categorical_cols[column].value_counts()  # Count unique values\n",
    "    sns.barplot(x=unique_values.index, y=unique_values.values)  # Create a bar plot\n",
    "    plt.title(f'Unique Values in {column}')\n",
    "    plt.xlabel(column)\n",
    "    plt.ylabel('Count')\n",
    "    plt.xticks(rotation=45)  # Rotate x labels for better readability\n",
    "\n",
    "# Adjust layout\n",
    "plt.tight_layout()\n",
    "plt.show()"
   ]
  },
  {
   "cell_type": "code",
   "execution_count": null,
   "id": "6da0b7d0-e2fd-46b9-9b7f-80e2319ba1b6",
   "metadata": {},
   "outputs": [],
   "source": [
    "from sklearn.preprocessing import LabelEncoder\n",
    "\n",
    "label_encoder = LabelEncoder()\n",
    "\n",
    "# Loop through the columns and apply LabelEncoder\n",
    "for column in categorical_cols:\n",
    "    df[f'{column}_encoded'] = label_encoder.fit_transform(df[column])\n",
    "df.head()"
   ]
  },
  {
   "cell_type": "code",
   "execution_count": null,
   "id": "a549d875-018d-4a0a-98b7-6d087b2eee48",
   "metadata": {},
   "outputs": [],
   "source": [
    "categorical_cols"
   ]
  },
  {
   "cell_type": "code",
   "execution_count": null,
   "id": "06f145bf-e4c6-4fb1-8858-a2fec8293ccd",
   "metadata": {},
   "outputs": [],
   "source": [
    "numerical_all_colslist = df.select_dtypes(include=['float64', 'int64','int32']).columns\n",
    "numerical_all_cols = df[numerical_all_colslist]\n",
    "numerical_all_cols.head()"
   ]
  },
  {
   "cell_type": "code",
   "execution_count": null,
   "id": "9d1b4a20-ed2d-465f-a206-d377236a0b1d",
   "metadata": {},
   "outputs": [],
   "source": [
    "# 1. Separate categorical and numerical columns\n",
    "numerical_cols = df.select_dtypes(include=['float64', 'int64']).columns\n",
    "categorical_cols = df.select_dtypes(include=['object']).columns\n",
    "\n",
    "print(numerical_cols)\n",
    "print(categorical_cols)\n",
    "from sklearn.impute import SimpleImputer\n",
    "\n",
    "# Imputation for numerical data (using mean)\n",
    "num_imputer = SimpleImputer(strategy='mean')\n",
    "df[numerical_cols] = num_imputer.fit_transform(df[numerical_cols])\n",
    "\n",
    "# Imputation for categorical data (using most frequent)\n",
    "cat_imputer = SimpleImputer(strategy='most_frequent')\n",
    "df[categorical_cols] = cat_imputer.fit_transform(df[categorical_cols])"
   ]
  },
  {
   "cell_type": "code",
   "execution_count": null,
   "id": "83e2c767-7ab3-43da-854c-ecc50807c730",
   "metadata": {},
   "outputs": [],
   "source": [
    "numerical_cols"
   ]
  },
  {
   "cell_type": "code",
   "execution_count": null,
   "id": "dde55726-0100-4912-85a3-147d013b6398",
   "metadata": {},
   "outputs": [],
   "source": [
    "corr_matrix = numerical_all_cols.corr()\n",
    "\n",
    "plt.figure(figsize=(15, 6))\n",
    "sns.heatmap(corr_matrix, annot=True, cmap='coolwarm')\n",
    "plt.title(\"Correlation Matrix of Numerical Features\")\n",
    "plt.show()"
   ]
  },
  {
   "cell_type": "code",
   "execution_count": null,
   "id": "37c7d41d-27fc-484b-ae5c-aa47e97a1e78",
   "metadata": {},
   "outputs": [],
   "source": [
    "corr_matrix = df[numerical_cols].corr()\n",
    "plt.figure(figsize=(12, 8))\n",
    "sns.heatmap(corr_matrix, annot=True, cmap='coolwarm')\n",
    "plt.show()"
   ]
  },
  {
   "cell_type": "code",
   "execution_count": null,
   "id": "12a7869b-f616-44a0-b556-4fc27a00ee48",
   "metadata": {},
   "outputs": [],
   "source": [
    "sns.set(font_scale=2.5)\n",
    "plt.figure(figsize=(40,30))\n",
    "corr_matrix=numerical_all_cols.corr()\n",
    "sns.heatmap(corr_matrix,annot=True,fmt = \".2f\",cbar = True,annot_kws={\"size\":18})"
   ]
  },
  {
   "cell_type": "code",
   "execution_count": null,
   "id": "98dc22b0-049b-4333-a170-640c64946c7f",
   "metadata": {},
   "outputs": [],
   "source": []
  }
 ],
 "metadata": {
  "kernelspec": {
   "display_name": "Python 3 (ipykernel)",
   "language": "python",
   "name": "python3"
  },
  "language_info": {
   "codemirror_mode": {
    "name": "ipython",
    "version": 3
   },
   "file_extension": ".py",
   "mimetype": "text/x-python",
   "name": "python",
   "nbconvert_exporter": "python",
   "pygments_lexer": "ipython3",
   "version": "3.12.4"
  }
 },
 "nbformat": 4,
 "nbformat_minor": 5
}

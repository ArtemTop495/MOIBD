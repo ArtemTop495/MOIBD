{
 "cells": [
  {
   "cell_type": "code",
   "execution_count": 15,
   "id": "7bd7abe1-1837-444b-874f-81e255b69cce",
   "metadata": {},
   "outputs": [],
   "source": [
    "import json\n",
    "\n",
    "with open(r'Data\\GooseGaming.json', 'r', encoding=\"utf8\") as file:\n",
    "    data = json.load(file)"
   ]
  },
  {
   "cell_type": "code",
   "execution_count": 19,
   "id": "e3f0e8ee-4a6d-4f78-88d1-15034cbe7938",
   "metadata": {},
   "outputs": [],
   "source": [
    "all_ref_text = []\n",
    "all_ref_day = []\n",
    "all_ref_month = []\n",
    "all_ref_time = []\n",
    "all_ref_rate = []\n",
    "all_ref_views = []\n",
    "def pars_json(local_data):\n",
    "    for i in local_data['refs']:\n",
    "        all_ref_text.append(i[0])\n",
    "        all_ref_day.append(i[1]['day'])\n",
    "        all_ref_month.append(i[1]['month'])\n",
    "        all_ref_time.append(i[1]['time'])\n",
    "        all_ref_rate.append(i[2]['rate'])\n",
    "        all_ref_views.append(i[2]['views'])\n",
    "pars_json(data)"
   ]
  },
  {
   "cell_type": "code",
   "execution_count": 21,
   "id": "209c3411-ea60-4145-9cc0-182878b43ec6",
   "metadata": {},
   "outputs": [
    {
     "ename": "NameError",
     "evalue": "name 'pd' is not defined",
     "output_type": "error",
     "traceback": [
      "\u001b[1;31m---------------------------------------------------------------------------\u001b[0m",
      "\u001b[1;31mNameError\u001b[0m                                 Traceback (most recent call last)",
      "Cell \u001b[1;32mIn[21], line 1\u001b[0m\n\u001b[1;32m----> 1\u001b[0m df \u001b[38;5;241m=\u001b[39m pd\u001b[38;5;241m.\u001b[39mDataFrame({\n\u001b[0;32m      2\u001b[0m     \u001b[38;5;124m'\u001b[39m\u001b[38;5;124mref text\u001b[39m\u001b[38;5;124m'\u001b[39m: all_ref_text,\n\u001b[0;32m      3\u001b[0m     \u001b[38;5;124m'\u001b[39m\u001b[38;5;124mref day\u001b[39m\u001b[38;5;124m'\u001b[39m: all_ref_day,\n\u001b[0;32m      4\u001b[0m     \u001b[38;5;124m'\u001b[39m\u001b[38;5;124mref month\u001b[39m\u001b[38;5;124m'\u001b[39m: all_ref_month,\n\u001b[0;32m      5\u001b[0m     \u001b[38;5;124m'\u001b[39m\u001b[38;5;124mref time\u001b[39m\u001b[38;5;124m'\u001b[39m: all_ref_time,\n\u001b[0;32m      6\u001b[0m     \u001b[38;5;124m'\u001b[39m\u001b[38;5;124mref rate\u001b[39m\u001b[38;5;124m'\u001b[39m: all_ref_rate,\n\u001b[0;32m      7\u001b[0m     \u001b[38;5;124m'\u001b[39m\u001b[38;5;124mref views\u001b[39m\u001b[38;5;124m'\u001b[39m: all_ref_views\n\u001b[0;32m      8\u001b[0m })\n\u001b[0;32m      9\u001b[0m df\n",
      "\u001b[1;31mNameError\u001b[0m: name 'pd' is not defined"
     ]
    }
   ],
   "source": [
    "df = pd.DataFrame({\n",
    "    'ref text': all_ref_text,\n",
    "    'ref day': all_ref_day,\n",
    "    'ref month': all_ref_month,\n",
    "    'ref time': all_ref_time,\n",
    "    'ref rate': all_ref_rate,\n",
    "    'ref views': all_ref_views\n",
    "})\n",
    "df"
   ]
  },
  {
   "cell_type": "code",
   "execution_count": null,
   "id": "4f379bc5-0a2d-4083-98cf-1daf72a2bbde",
   "metadata": {},
   "outputs": [],
   "source": []
  }
 ],
 "metadata": {
  "kernelspec": {
   "display_name": "Python 3 (ipykernel)",
   "language": "python",
   "name": "python3"
  },
  "language_info": {
   "codemirror_mode": {
    "name": "ipython",
    "version": 3
   },
   "file_extension": ".py",
   "mimetype": "text/x-python",
   "name": "python",
   "nbconvert_exporter": "python",
   "pygments_lexer": "ipython3",
   "version": "3.12.4"
  }
 },
 "nbformat": 4,
 "nbformat_minor": 5
}

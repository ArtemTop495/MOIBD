{
 "cells": [
  {
   "cell_type": "code",
   "execution_count": 13,
   "id": "ba5e0e55-656d-4ed8-ac02-9c5c2f2cb0c5",
   "metadata": {},
   "outputs": [
    {
     "name": "stdout",
     "output_type": "stream",
     "text": [
      "Requirement already satisfied: pymupdf in c:\\users\\artembruh\\anaconda3\\lib\\site-packages (1.25.4)\n",
      "Note: you may need to restart the kernel to use updated packages.\n"
     ]
    }
   ],
   "source": [
    "#pip install pymupdf"
   ]
  },
  {
   "cell_type": "code",
   "execution_count": 1,
   "id": "e27856b1-7a69-41a8-880d-0261ea102c5d",
   "metadata": {},
   "outputs": [],
   "source": [
    "import pymupdf\n",
    "import pandas as pd\n",
    "import io\n",
    "import glob"
   ]
  },
  {
   "cell_type": "code",
   "execution_count": 3,
   "id": "dfe6127c-0737-430b-bceb-e73cf2d980cc",
   "metadata": {},
   "outputs": [],
   "source": [
    "# загрузка в list пути всех нужных pdf файлов\n",
    "all_pdf = glob.glob(r\"PDF2\\*.pdf\")"
   ]
  },
  {
   "cell_type": "code",
   "execution_count": 5,
   "id": "9f23861b-1baf-4fea-a253-331d9e49e7f2",
   "metadata": {},
   "outputs": [
    {
     "data": {
      "text/plain": [
       "20"
      ]
     },
     "execution_count": 5,
     "metadata": {},
     "output_type": "execute_result"
    }
   ],
   "source": [
    "len(all_pdf)"
   ]
  },
  {
   "cell_type": "code",
   "execution_count": 7,
   "id": "19903fcd-2618-42e1-88fe-940a0d139670",
   "metadata": {},
   "outputs": [
    {
     "data": {
      "text/plain": [
       "['PDF2\\\\Cocoapods, Carthage, SPM как выбрать менеджер зависимостей в iOS.pdf',\n",
       " 'PDF2\\\\Deutsche Telekom и Perplexity объявили о новом «AI Phone» стоимостью менее 1 000 долларов _ Хабр.pdf',\n",
       " 'PDF2\\\\imgonline-com-ua-site2pdfB28eKGLy6EjA.pdf',\n",
       " 'PDF2\\\\OSINT & Hacking — как работает фишинг для нельзяграма _ Хабр3.pdf',\n",
       " 'PDF2\\\\Yandex N.V. запретили в\\xa0течение пяти лет создавать аналогичные «Яндексу» сервисы _ Хабр.pdf',\n",
       " 'PDF2\\\\Быстрое начало работы с Gitlab CICD.pdf',\n",
       " 'PDF2\\\\Генеральный директор Mozilla покинула свой пост _ Хабр.pdf',\n",
       " 'PDF2\\\\За что безопасники будут гореть в аду_ _ Хабр.pdf',\n",
       " 'PDF2\\\\Заезжаем в Kotlin Multiplatform. Но какой ценой_ _ Хабр.pdf',\n",
       " 'PDF2\\\\ИИ-агенты в Альфа-Банке_ нейросети создают автотесты без участия человека _ Хабр.pdf',\n",
       " 'PDF2\\\\Инструменты наблюдаемости, о которых нужно знать в 2023 году.pdf',\n",
       " 'PDF2\\\\История российской науки_ напишем вместе_ _ Хабр.pdf',\n",
       " 'PDF2\\\\Как системному аналитику написать хорошее резюме —\\xa011 рекомендаций _ Хабр.pdf',\n",
       " 'PDF2\\\\Как создать аппаратный эмулятор CD-ROM без паяльника _ Хабр.pdf',\n",
       " 'PDF2\\\\Как создать аппаратный эмулятор CD-ROM.pdf',\n",
       " 'PDF2\\\\Компании _ Хабр.pdf',\n",
       " 'PDF2\\\\Компании.pdf',\n",
       " 'PDF2\\\\Может ли chatGPT забронировать столик в ресторане через WhatsApp.pdf',\n",
       " 'PDF2\\\\Новые утечки.pdf',\n",
       " 'PDF2\\\\Почему Data Science не для вас.pdf']"
      ]
     },
     "execution_count": 7,
     "metadata": {},
     "output_type": "execute_result"
    }
   ],
   "source": [
    "all_pdf"
   ]
  },
  {
   "cell_type": "code",
   "execution_count": null,
   "id": "4e6837a8-4ce9-4ed0-a412-13237a4002de",
   "metadata": {},
   "outputs": [],
   "source": []
  }
 ],
 "metadata": {
  "kernelspec": {
   "display_name": "Python 3 (ipykernel)",
   "language": "python",
   "name": "python3"
  },
  "language_info": {
   "codemirror_mode": {
    "name": "ipython",
    "version": 3
   },
   "file_extension": ".py",
   "mimetype": "text/x-python",
   "name": "python",
   "nbconvert_exporter": "python",
   "pygments_lexer": "ipython3",
   "version": "3.12.4"
  }
 },
 "nbformat": 4,
 "nbformat_minor": 5
}

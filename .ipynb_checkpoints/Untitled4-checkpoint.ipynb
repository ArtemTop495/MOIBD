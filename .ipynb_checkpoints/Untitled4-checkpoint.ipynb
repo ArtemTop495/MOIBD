{
 "cells": [
  {
   "cell_type": "code",
   "execution_count": null,
   "id": "f64b5e63-1b6c-4de9-b142-19b1449b264d",
   "metadata": {},
   "outputs": [],
   "source": []
  }
 ],
 "metadata": {
  "kernelspec": {
   "display_name": "",
   "name": ""
  },
  "language_info": {
   "name": ""
  }
 },
 "nbformat": 4,
 "nbformat_minor": 5
}

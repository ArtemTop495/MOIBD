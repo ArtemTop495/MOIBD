{
 "cells": [
  {
   "cell_type": "markdown",
   "id": "08793464-eb42-48ba-994d-0d60f04fb0b9",
   "metadata": {},
   "source": [
    "## 1. Импорт пакетов и файла"
   ]
  },
  {
   "cell_type": "code",
   "execution_count": 2,
   "id": "dd38ec11-9ea6-4b55-ba1c-63ca9562a8c8",
   "metadata": {},
   "outputs": [],
   "source": [
    "%matplotlib inline\n",
    "import pandas as pd\n",
    "import numpy as np\n",
    "import matplotlib.pyplot as plt\n",
    "import seaborn as sns\n",
    "from sklearn.model_selection import train_test_split\n",
    "from sklearn.ensemble import RandomForestRegressor, StackingRegressor\n",
    "from sklearn.linear_model import LinearRegression\n",
    "from sklearn.tree import DecisionTreeRegressor\n",
    "from sklearn.svm import SVR\n",
    "from sklearn.preprocessing import LabelEncoder\n",
    "from sklearn.metrics import mean_squared_error, r2_score\n",
    "from xgboost import XGBRegressor\n",
    "import warnings\n",
    "warnings.filterwarnings('ignore')"
   ]
  },
  {
   "cell_type": "code",
   "execution_count": 3,
   "id": "d1f01eb4-1c75-4e10-bb03-a229e125d24c",
   "metadata": {},
   "outputs": [],
   "source": [
    "data = pd.read_csv('real_estate_data.csv')"
   ]
  },
  {
   "cell_type": "code",
   "execution_count": 4,
   "id": "4fef31b2-c29c-43cf-b519-84c264b34a25",
   "metadata": {},
   "outputs": [
    {
     "data": {
      "text/html": [
       "<div>\n",
       "<style scoped>\n",
       "    .dataframe tbody tr th:only-of-type {\n",
       "        vertical-align: middle;\n",
       "    }\n",
       "\n",
       "    .dataframe tbody tr th {\n",
       "        vertical-align: top;\n",
       "    }\n",
       "\n",
       "    .dataframe thead th {\n",
       "        text-align: right;\n",
       "    }\n",
       "</style>\n",
       "<table border=\"1\" class=\"dataframe\">\n",
       "  <thead>\n",
       "    <tr style=\"text-align: right;\">\n",
       "      <th></th>\n",
       "      <th>id</th>\n",
       "      <th>type</th>\n",
       "      <th>sub_type</th>\n",
       "      <th>start_date</th>\n",
       "      <th>end_date</th>\n",
       "      <th>listing_type</th>\n",
       "      <th>tom</th>\n",
       "      <th>building_age</th>\n",
       "      <th>total_floor_count</th>\n",
       "      <th>floor_no</th>\n",
       "      <th>room_count</th>\n",
       "      <th>size</th>\n",
       "      <th>address</th>\n",
       "      <th>furnished</th>\n",
       "      <th>heating_type</th>\n",
       "      <th>price</th>\n",
       "      <th>price_currency</th>\n",
       "    </tr>\n",
       "  </thead>\n",
       "  <tbody>\n",
       "    <tr>\n",
       "      <th>0</th>\n",
       "      <td>1</td>\n",
       "      <td>Konut</td>\n",
       "      <td>Rezidans</td>\n",
       "      <td>12/10/18</td>\n",
       "      <td>1/9/19</td>\n",
       "      <td>2</td>\n",
       "      <td>30</td>\n",
       "      <td>0</td>\n",
       "      <td>20 ve üzeri</td>\n",
       "      <td>2</td>\n",
       "      <td>2+1</td>\n",
       "      <td>90.0</td>\n",
       "      <td>İstanbul/Kartal/Kordonboyu</td>\n",
       "      <td>NaN</td>\n",
       "      <td>Fancoil</td>\n",
       "      <td>3500.0</td>\n",
       "      <td>TRY</td>\n",
       "    </tr>\n",
       "    <tr>\n",
       "      <th>1</th>\n",
       "      <td>2</td>\n",
       "      <td>Konut</td>\n",
       "      <td>Daire</td>\n",
       "      <td>2/13/19</td>\n",
       "      <td>NaN</td>\n",
       "      <td>1</td>\n",
       "      <td>14</td>\n",
       "      <td>0</td>\n",
       "      <td>20 ve üzeri</td>\n",
       "      <td>20 ve üzeri</td>\n",
       "      <td>1+0</td>\n",
       "      <td>43.0</td>\n",
       "      <td>İstanbul/Kartal/Kordonboyu</td>\n",
       "      <td>NaN</td>\n",
       "      <td>Fancoil</td>\n",
       "      <td>490000.0</td>\n",
       "      <td>TRY</td>\n",
       "    </tr>\n",
       "    <tr>\n",
       "      <th>2</th>\n",
       "      <td>3</td>\n",
       "      <td>Konut</td>\n",
       "      <td>Daire</td>\n",
       "      <td>10/9/18</td>\n",
       "      <td>11/8/18</td>\n",
       "      <td>1</td>\n",
       "      <td>30</td>\n",
       "      <td>0</td>\n",
       "      <td>1</td>\n",
       "      <td>Yüksek Giriş</td>\n",
       "      <td>2+1</td>\n",
       "      <td>NaN</td>\n",
       "      <td>Tekirdağ/Çorlu/Reşadiye</td>\n",
       "      <td>NaN</td>\n",
       "      <td>Fancoil</td>\n",
       "      <td>155000.0</td>\n",
       "      <td>TRY</td>\n",
       "    </tr>\n",
       "    <tr>\n",
       "      <th>3</th>\n",
       "      <td>4</td>\n",
       "      <td>Konut</td>\n",
       "      <td>Rezidans</td>\n",
       "      <td>9/10/18</td>\n",
       "      <td>10/10/18</td>\n",
       "      <td>1</td>\n",
       "      <td>30</td>\n",
       "      <td>3</td>\n",
       "      <td>20 ve üzeri</td>\n",
       "      <td>20 ve üzeri</td>\n",
       "      <td>6+1</td>\n",
       "      <td>450.0</td>\n",
       "      <td>İstanbul/Beşiktaş/Levent</td>\n",
       "      <td>NaN</td>\n",
       "      <td>Fancoil</td>\n",
       "      <td>32500000.0</td>\n",
       "      <td>TRY</td>\n",
       "    </tr>\n",
       "    <tr>\n",
       "      <th>4</th>\n",
       "      <td>5</td>\n",
       "      <td>Konut</td>\n",
       "      <td>Rezidans</td>\n",
       "      <td>12/10/18</td>\n",
       "      <td>1/9/19</td>\n",
       "      <td>1</td>\n",
       "      <td>30</td>\n",
       "      <td>0</td>\n",
       "      <td>20 ve üzeri</td>\n",
       "      <td>2</td>\n",
       "      <td>2+1</td>\n",
       "      <td>90.0</td>\n",
       "      <td>İstanbul/Kartal/Kordonboyu</td>\n",
       "      <td>NaN</td>\n",
       "      <td>Fancoil</td>\n",
       "      <td>1450000.0</td>\n",
       "      <td>TRY</td>\n",
       "    </tr>\n",
       "  </tbody>\n",
       "</table>\n",
       "</div>"
      ],
      "text/plain": [
       "   id   type  sub_type start_date  end_date  listing_type  tom building_age  \\\n",
       "0   1  Konut  Rezidans   12/10/18    1/9/19             2   30            0   \n",
       "1   2  Konut     Daire    2/13/19       NaN             1   14            0   \n",
       "2   3  Konut     Daire    10/9/18   11/8/18             1   30            0   \n",
       "3   4  Konut  Rezidans    9/10/18  10/10/18             1   30            3   \n",
       "4   5  Konut  Rezidans   12/10/18    1/9/19             1   30            0   \n",
       "\n",
       "  total_floor_count      floor_no room_count   size  \\\n",
       "0       20 ve üzeri             2        2+1   90.0   \n",
       "1       20 ve üzeri   20 ve üzeri        1+0   43.0   \n",
       "2                 1  Yüksek Giriş        2+1    NaN   \n",
       "3       20 ve üzeri   20 ve üzeri        6+1  450.0   \n",
       "4       20 ve üzeri             2        2+1   90.0   \n",
       "\n",
       "                      address  furnished heating_type       price  \\\n",
       "0  İstanbul/Kartal/Kordonboyu        NaN      Fancoil      3500.0   \n",
       "1  İstanbul/Kartal/Kordonboyu        NaN      Fancoil    490000.0   \n",
       "2     Tekirdağ/Çorlu/Reşadiye        NaN      Fancoil    155000.0   \n",
       "3    İstanbul/Beşiktaş/Levent        NaN      Fancoil  32500000.0   \n",
       "4  İstanbul/Kartal/Kordonboyu        NaN      Fancoil   1450000.0   \n",
       "\n",
       "  price_currency  \n",
       "0            TRY  \n",
       "1            TRY  \n",
       "2            TRY  \n",
       "3            TRY  \n",
       "4            TRY  "
      ]
     },
     "execution_count": 4,
     "metadata": {},
     "output_type": "execute_result"
    }
   ],
   "source": [
    "data.head()"
   ]
  },
  {
   "cell_type": "markdown",
   "id": "3a09be28-eae4-44ac-a899-c2f8aa96fdaf",
   "metadata": {},
   "source": [
    "### Описание данных\n",
    "\n",
    "Признаки:\n",
    "- type - Тип недвижимости\n",
    "- sub_type - Подгруппа типа недвижимости\n",
    "- start_date - Дата начала размещения объявления на рынке\n",
    "- end_date - Дата окончания размещения объявления на рынке\n",
    "- listing_type - Тип объявления\n",
    "- tom - Время нахождения на рынке\n",
    "- building_age - Возраст здания\n",
    "- total_floor_count - Количество этажей в здании\n",
    "- room_count - Количество комнат в квартире\n",
    "- size - Площадь дома\n",
    "- address - Адрес жилья\n",
    "- furnished - Наличие мебели\n",
    "- currency - Валюта цены дома\n",
    "- floor_no - Информация о номере этажа данного объявления\n",
    "- heating_type - Различные типы систем отопления\n",
    "\n",
    "Целевой (искомый) признак:\n",
    "- price - Цена дома (или аренды)"
   ]
  },
  {
   "cell_type": "code",
   "execution_count": 6,
   "id": "74c9cac8-c352-45ab-9fad-d045140558ce",
   "metadata": {},
   "outputs": [
    {
     "data": {
      "text/plain": [
       "(403487, 17)"
      ]
     },
     "execution_count": 6,
     "metadata": {},
     "output_type": "execute_result"
    }
   ],
   "source": [
    "# объём данных (строк и столбцов - объектов и признаков)\n",
    "data.shape"
   ]
  },
  {
   "cell_type": "code",
   "execution_count": 7,
   "id": "828fa9ae-f8cb-4221-8ca6-d76e14191d12",
   "metadata": {},
   "outputs": [
    {
     "data": {
      "text/plain": [
       "id                     int64\n",
       "type                  object\n",
       "sub_type              object\n",
       "start_date            object\n",
       "end_date              object\n",
       "listing_type           int64\n",
       "tom                    int64\n",
       "building_age          object\n",
       "total_floor_count     object\n",
       "floor_no              object\n",
       "room_count            object\n",
       "size                 float64\n",
       "address               object\n",
       "furnished            float64\n",
       "heating_type          object\n",
       "price                float64\n",
       "price_currency        object\n",
       "dtype: object"
      ]
     },
     "execution_count": 7,
     "metadata": {},
     "output_type": "execute_result"
    }
   ],
   "source": [
    "# выводим типы данных\n",
    "data.dtypes"
   ]
  },
  {
   "cell_type": "code",
   "execution_count": 8,
   "id": "17fef169-31ed-4335-acdb-42dc0ed45df6",
   "metadata": {},
   "outputs": [
    {
     "name": "stdout",
     "output_type": "stream",
     "text": [
      "<class 'pandas.core.frame.DataFrame'>\n",
      "RangeIndex: 403487 entries, 0 to 403486\n",
      "Data columns (total 17 columns):\n",
      " #   Column             Non-Null Count   Dtype  \n",
      "---  ------             --------------   -----  \n",
      " 0   id                 403487 non-null  int64  \n",
      " 1   type               403487 non-null  object \n",
      " 2   sub_type           403487 non-null  object \n",
      " 3   start_date         403487 non-null  object \n",
      " 4   end_date           266298 non-null  object \n",
      " 5   listing_type       403487 non-null  int64  \n",
      " 6   tom                403487 non-null  int64  \n",
      " 7   building_age       376097 non-null  object \n",
      " 8   total_floor_count  375466 non-null  object \n",
      " 9   floor_no           368191 non-null  object \n",
      " 10  room_count         403487 non-null  object \n",
      " 11  size               257481 non-null  float64\n",
      " 12  address            403487 non-null  object \n",
      " 13  furnished          0 non-null       float64\n",
      " 14  heating_type       375517 non-null  object \n",
      " 15  price              402772 non-null  float64\n",
      " 16  price_currency     402772 non-null  object \n",
      "dtypes: float64(3), int64(3), object(11)\n",
      "memory usage: 52.3+ MB\n"
     ]
    }
   ],
   "source": [
    "data.info()"
   ]
  },
  {
   "cell_type": "code",
   "execution_count": 9,
   "id": "07270dec-582f-49ec-b15d-2388366b1224",
   "metadata": {},
   "outputs": [
    {
     "data": {
      "text/plain": [
       "Index(['id', 'type', 'sub_type', 'start_date', 'end_date', 'listing_type',\n",
       "       'tom', 'building_age', 'total_floor_count', 'floor_no', 'room_count',\n",
       "       'size', 'address', 'furnished', 'heating_type', 'price',\n",
       "       'price_currency'],\n",
       "      dtype='object')"
      ]
     },
     "execution_count": 9,
     "metadata": {},
     "output_type": "execute_result"
    }
   ],
   "source": [
    "# имена колонок в виде списка\n",
    "columns = data.columns\n",
    "columns"
   ]
  },
  {
   "cell_type": "code",
   "execution_count": 10,
   "id": "29eb1d53-e799-4fcf-bd3d-43e75c0486b6",
   "metadata": {},
   "outputs": [
    {
     "name": "stdout",
     "output_type": "stream",
     "text": [
      "Кол-во пропусков в колонке id = 0\n",
      "Кол-во пропусков в колонке type = 0\n",
      "Кол-во пропусков в колонке sub_type = 0\n",
      "Кол-во пропусков в колонке start_date = 0\n",
      "Кол-во пропусков в колонке end_date = 137189\n",
      "Кол-во пропусков в колонке listing_type = 0\n",
      "Кол-во пропусков в колонке tom = 0\n",
      "Кол-во пропусков в колонке building_age = 27390\n",
      "Кол-во пропусков в колонке total_floor_count = 28021\n",
      "Кол-во пропусков в колонке floor_no = 35296\n",
      "Кол-во пропусков в колонке room_count = 0\n",
      "Кол-во пропусков в колонке size = 146006\n",
      "Кол-во пропусков в колонке address = 0\n",
      "Кол-во пропусков в колонке furnished = 403487\n",
      "Кол-во пропусков в колонке heating_type = 27970\n",
      "Кол-во пропусков в колонке price = 715\n",
      "Кол-во пропусков в колонке price_currency = 715\n"
     ]
    }
   ],
   "source": [
    "# подсчет пропусков\n",
    "for col in data.columns:\n",
    "    print('Кол-во пропусков в колонке %s = %d' % (col, data[col].isna().sum()))"
   ]
  },
  {
   "cell_type": "code",
   "execution_count": 11,
   "id": "493472c8-f599-4f11-8ca5-ba4f3b1ecfe6",
   "metadata": {},
   "outputs": [
    {
     "name": "stdout",
     "output_type": "stream",
     "text": [
      "Счетчик нулей у price: 715\n",
      "Счетчик нулей у price_currency: 715\n",
      "Уникальные значения price_currency: ['TRY' 'GBP' 'EUR' 'USD' nan]\n"
     ]
    }
   ],
   "source": [
    "# Проверьте price и price_currency на наличие проблем\n",
    "print(\"Счетчик нулей у price:\", data['price'].isnull().sum())\n",
    "print(\"Счетчик нулей у price_currency:\", data['price_currency'].isnull().sum())\n",
    "print(\"Уникальные значения price_currency:\", data['price_currency'].unique())"
   ]
  },
  {
   "cell_type": "code",
   "execution_count": 12,
   "id": "d1987d4a-bbd4-46eb-bbbf-4ea05529fda8",
   "metadata": {},
   "outputs": [],
   "source": [
    "# Конвертируем цены в числа\n",
    "data['price'] = pd.to_numeric(data['price'], errors='coerce')"
   ]
  },
  {
   "cell_type": "code",
   "execution_count": 13,
   "id": "c09ba418-edf1-48e6-9c84-782da20f5aa8",
   "metadata": {},
   "outputs": [],
   "source": [
    "# Конвертация в турецкие лиры\n",
    "def convert_to_try(row):\n",
    "    try:\n",
    "        price = row['price']\n",
    "        if pd.isna(price):\n",
    "            return np.nan\n",
    "        if row['price_currency'] == 'USD':\n",
    "            return price * 41.15\n",
    "        elif row['price_currency'] == 'EUR':\n",
    "            return price * 48.17\n",
    "        elif row['price_currency'] == 'GBP':\n",
    "            return price * 55.60\n",
    "        elif row['price_currency'] in ['TRY', '', np.nan]:\n",
    "            return price\n",
    "        else:\n",
    "            print(f\"Ошибка: нераспознанная валюта '{row['price_currency']}' в {row.name} строке\")\n",
    "            return price\n",
    "    except:\n",
    "        return np.nan"
   ]
  },
  {
   "cell_type": "code",
   "execution_count": 14,
   "id": "ee78274a-0081-4a5f-b02a-a67ae120629a",
   "metadata": {},
   "outputs": [],
   "source": [
    "data['price_try'] = data.apply(convert_to_try, axis=1)"
   ]
  },
  {
   "cell_type": "code",
   "execution_count": 15,
   "id": "9f00dca0-e8dc-49a6-a474-27b89b7f7171",
   "metadata": {},
   "outputs": [
    {
     "name": "stdout",
     "output_type": "stream",
     "text": [
      "Строки с NaN в price_try до удаления: 715\n",
      "Строки с NaN в price_try после удаления: 0\n"
     ]
    }
   ],
   "source": [
    "# Удаляем строки с пропусками в price_try\n",
    "print(\"Строки с NaN в price_try до удаления:\", data['price_try'].isnull().sum())\n",
    "data = data.dropna(subset=['price_try'])\n",
    "print(\"Строки с NaN в price_try после удаления:\", data['price_try'].isnull().sum())"
   ]
  },
  {
   "cell_type": "code",
   "execution_count": 16,
   "id": "84ed01fd-6cb3-4476-895f-63d948e0ff6e",
   "metadata": {},
   "outputs": [],
   "source": [
    "# Удаляем не значимые колонки (оставляем listing_type)\n",
    "data = data.drop(['id', 'start_date', 'end_date', 'furnished', 'address', 'price', 'price_currency'], axis=1)"
   ]
  },
  {
   "cell_type": "code",
   "execution_count": 17,
   "id": "df1d440c-1ac3-4678-a3d6-fd764ce2f0b9",
   "metadata": {},
   "outputs": [],
   "source": [
    "# Заменям пропуски медианными значениями\n",
    "data['size'] = data['size'].replace('', np.nan).astype(float)\n",
    "data['size'].fillna(data['size'].median(), inplace=True)"
   ]
  },
  {
   "cell_type": "code",
   "execution_count": 18,
   "id": "80905c40-718d-4106-893b-10553fd8c61f",
   "metadata": {},
   "outputs": [],
   "source": [
    "# Конвертируем building_age в число\n",
    "data['building_age'] = data['building_age'].replace('0', '0-5 arası').replace('40 ve üzeri', '40').replace('', np.nan)\n",
    "data['building_age'] = data['building_age'].apply(lambda x: 0 if pd.isna(x) else int(x.split('-')[0]) if 'arası' in str(x) else int(x))"
   ]
  },
  {
   "cell_type": "code",
   "execution_count": 19,
   "id": "dce433d9-a5e9-484f-9190-d777cffbae5c",
   "metadata": {},
   "outputs": [],
   "source": [
    "# Конвертируем total_floor_count в число\n",
    "data['total_floor_count'] = data['total_floor_count'].replace('20 ve üzeri', '20').replace('', np.nan)\n",
    "data['total_floor_count'] = data['total_floor_count'].apply(lambda x: np.nan if pd.isna(x) else float(x.split('-')[0]) if 'arası' in str(x) else float(x))\n",
    "data['total_floor_count'].fillna(data['total_floor_count'].median(), inplace=True)"
   ]
  },
  {
   "cell_type": "code",
   "execution_count": 20,
   "id": "eb29e4c1-a25b-4583-a275-769beeaa10ea",
   "metadata": {},
   "outputs": [],
   "source": [
    "# Конвертируем floor_no в числа\n",
    "floor_mapping = {\n",
    "    'Zemin Kat': 0, 'Giriş Katı': 0, 'Yüksek Giriş': 1, 'Bahçe katı': 0,\n",
    "    'Kot 2': -2, 'Kot1': -1, 'Asma Kat': 0.5, 'Çatı Katı': 100, 'En Üst Kat': 100,\n",
    "    '20 ve üzeri': 20\n",
    "}\n",
    "data['floor_no'] = data['floor_no'].replace(floor_mapping).replace('', np.nan)\n",
    "data['floor_no'] = pd.to_numeric(data['floor_no'], errors='coerce')\n",
    "data['floor_no'].fillna(data['floor_no'].median(), inplace=True)"
   ]
  },
  {
   "cell_type": "code",
   "execution_count": 21,
   "id": "0abff086-027c-4767-8f59-81c7d7da31ef",
   "metadata": {},
   "outputs": [],
   "source": [
    "# Конвертируем room_count в числа\n",
    "def parse_room_count(x):\n",
    "    if pd.isna(x) or x == '' or x == '+':\n",
    "        return np.nan\n",
    "    try:\n",
    "        parts = x.split('+')\n",
    "        return sum(int(part) for part in parts if part.strip().isdigit())\n",
    "    except:\n",
    "        return np.nan"
   ]
  },
  {
   "cell_type": "code",
   "execution_count": 22,
   "id": "b12f7a0b-1ac5-4825-97d0-e90e75b86f68",
   "metadata": {},
   "outputs": [],
   "source": [
    "data['room_count'] = data['room_count'].apply(parse_room_count)\n",
    "data['room_count'].fillna(data['room_count'].median(), inplace=True)"
   ]
  },
  {
   "cell_type": "code",
   "execution_count": 23,
   "id": "11466db8-1a9b-471e-b6a9-485fbee3a76d",
   "metadata": {},
   "outputs": [],
   "source": [
    "# Разделяем на категории\n",
    "categorical_cols = ['type', 'sub_type', 'heating_type']\n",
    "for col in categorical_cols:\n",
    "    data[col] = data[col].replace('', np.nan).fillna('Unknown')\n",
    "    le = LabelEncoder()\n",
    "    data[col] = le.fit_transform(data[col].astype(str))"
   ]
  },
  {
   "cell_type": "code",
   "execution_count": 24,
   "id": "ed434eb8-0eb9-40c5-97b9-a1ac9b8973a4",
   "metadata": {},
   "outputs": [
    {
     "data": {
      "image/png": "[encoded data removed]",
      "text/plain": [
       "<Figure size 1000x800 with 2 Axes>"
      ]
     },
     "metadata": {},
     "output_type": "display_data"
    }
   ],
   "source": [
    "# Матрица корреляций\n",
    "corr_matrix = data.drop(columns=['type']).corr()\n",
    "plt.figure(figsize=(10, 8))\n",
    "sns.heatmap(corr_matrix, annot=True, cmap='coolwarm')\n",
    "plt.show()"
   ]
  },
  {
   "cell_type": "code",
   "execution_count": 25,
   "id": "273949aa-a33a-4d8d-807b-59785a723b27",
   "metadata": {},
   "outputs": [],
   "source": [
    "# Определяем свойства и целевую переменную\n",
    "X = data.drop('price_try', axis=1)\n",
    "y = data['price_try']"
   ]
  },
  {
   "cell_type": "code",
   "execution_count": 26,
   "id": "fb06e6b5-f653-4324-b1f0-84b8e1c3b23b",
   "metadata": {},
   "outputs": [],
   "source": [
    "# Разделяем данные\n",
    "X_train, X_test, y_train, y_test = train_test_split(X, y, test_size=0.2, random_state=42)"
   ]
  },
  {
   "cell_type": "code",
   "execution_count": 27,
   "id": "0f01a0a9-6bfe-4218-844b-db0e89d7a067",
   "metadata": {},
   "outputs": [],
   "source": [
    "# Создаем модели\n",
    "rf_model = RandomForestRegressor(n_estimators=100, random_state=42)\n",
    "xgb_model = XGBRegressor(n_estimators=100, random_state=42)\n",
    "stacking_model = StackingRegressor(\n",
    "    estimators=[\n",
    "        ('dt', DecisionTreeRegressor(random_state=42)),\n",
    "        ('svr', SVR())\n",
    "    ],\n",
    "    final_estimator=LinearRegression()\n",
    ")"
   ]
  },
  {
   "cell_type": "code",
   "execution_count": 28,
   "id": "c4662e59-f95c-4a03-9047-05b21009ecd4",
   "metadata": {},
   "outputs": [],
   "source": [
    "models = {\n",
    "    'Random Forest': rf_model,\n",
    "    'Gradient Boosting (XGBoost)': xgb_model,\n",
    "    'Stacking': stacking_model\n",
    "}"
   ]
  },
  {
   "cell_type": "code",
   "execution_count": null,
   "id": "eb63fc52-a6a9-4eae-b8ca-4c89d9406753",
   "metadata": {},
   "outputs": [
    {
     "name": "stdout",
     "output_type": "stream",
     "text": [
      "Random Forest - MSE: 80247491935928.64, R2: -0.43\n",
      "Gradient Boosting (XGBoost) - MSE: 58625164946656.38, R2: -0.04\n"
     ]
    }
   ],
   "source": [
    "# Обучаем модели\n",
    "results = {}\n",
    "predictions = {}\n",
    "for name, model in models.items():\n",
    "    model.fit(X_train, y_train)\n",
    "    y_pred = model.predict(X_test)\n",
    "    mse = mean_squared_error(y_test, y_pred)\n",
    "    r2 = r2_score(y_test, y_pred)\n",
    "    results[name] = {'MSE': mse, 'R2': r2}\n",
    "    predictions[name] = y_pred\n",
    "    print(f\"{name} - MSE: {mse:.2f}, R2: {r2:.2f}\")"
   ]
  },
  {
   "cell_type": "code",
   "execution_count": null,
   "id": "b6c75dec-52a5-4070-b6c6-d508149ff01e",
   "metadata": {},
   "outputs": [],
   "source": [
    "# Find the best model\n",
    "best_model = min(results.items(), key=lambda x: x[1]['MSE'])\n",
    "print(f\"\\nBest Model: {best_model[0]} with MSE: {best_model[1]['MSE']:.2f} and R2: {best_model[1]['R2']:.2f}\")"
   ]
  },
  {
   "cell_type": "code",
   "execution_count": null,
   "id": "2f3e35e9-077d-4f5e-9a60-34c18aea936f",
   "metadata": {},
   "outputs": [],
   "source": [
    "# Visualization 1: Bar Plot for MSE and R2\n",
    "fig, (ax1, ax2) = plt.subplots(1, 2, figsize=(12, 5))\n",
    "\n",
    "# MSE Bar Plot\n",
    "sns.barplot(x=list(results.keys()), y=[results[model]['MSE'] for model in results], ax=ax1)\n",
    "ax1.set_title('Mean Squared Error (MSE) Comparison')\n",
    "ax1.set_ylabel('MSE')\n",
    "ax1.tick_params(axis='x', rotation=45)\n",
    "\n",
    "# R2 Bar Plot\n",
    "sns.barplot(x=list(results.keys()), y=[results[model]['R2'] for model in results], ax=ax2)\n",
    "ax2.set_title('R² Score Comparison')\n",
    "ax2.set_ylabel('R² Score')\n",
    "ax2.tick_params(axis='x', rotation=45)\n",
    "\n",
    "plt.tight_layout()\n",
    "plt.show()"
   ]
  },
  {
   "cell_type": "code",
   "execution_count": null,
   "id": "0d25ff47-6236-4583-99ad-d2695d061556",
   "metadata": {},
   "outputs": [],
   "source": [
    "# Visualization 2: Scatter Plots for Predicted vs Actual Prices\n",
    "fig, axes = plt.subplots(1, 3, figsize=(15, 5), sharey=True)\n",
    "fig.suptitle('Predicted vs Actual Prices')\n",
    "\n",
    "for i, (name, y_pred) in enumerate(predictions.items()):\n",
    "    axes[i].scatter(y_test, y_pred, alpha=0.5)\n",
    "    axes[i].plot([y_test.min(), y_test.max()], [y_test.min(), y_test.max()], 'r--', lw=2)\n",
    "    axes[i].set_title(name)\n",
    "    axes[i].set_xlabel('Actual Price (TRY)')\n",
    "    axes[i].set_ylabel('Predicted Price (TRY)')\n",
    "    axes[i].set_xscale('log')\n",
    "    axes[i].set_yscale('log')\n",
    "\n",
    "plt.tight_layout()\n",
    "plt.show()"
   ]
  },
  {
   "cell_type": "code",
   "execution_count": null,
   "id": "5433bcf2-3023-4d1d-b48e-e5c98ec2a19b",
   "metadata": {},
   "outputs": [],
   "source": []
  },
  {
   "cell_type": "code",
   "execution_count": null,
   "id": "480513e0-9fac-4cd6-bc1f-fed06998b49c",
   "metadata": {},
   "outputs": [],
   "source": []
  },
  {
   "cell_type": "code",
   "execution_count": null,
   "id": "ca624cf4-48fc-467e-9c77-6717a2b37e31",
   "metadata": {},
   "outputs": [],
   "source": []
  }
 ],
 "metadata": {
  "kernelspec": {
   "display_name": "Python 3 (ipykernel)",
   "language": "python",
   "name": "python3"
  },
  "language_info": {
   "codemirror_mode": {
    "name": "ipython",
    "version": 3
   },
   "file_extension": ".py",
   "mimetype": "text/x-python",
   "name": "python",
   "nbconvert_exporter": "python",
   "pygments_lexer": "ipython3",
   "version": "3.12.4"
  }
 },
 "nbformat": 4,
 "nbformat_minor": 5
}

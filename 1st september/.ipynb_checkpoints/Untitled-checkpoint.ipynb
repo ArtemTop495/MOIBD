{
 "cells": [
  {
   "cell_type": "markdown",
   "id": "08793464-eb42-48ba-994d-0d60f04fb0b9",
   "metadata": {},
   "source": [
    "## 1. Импорт пакетов и файла"
   ]
  },
  {
   "cell_type": "code",
   "execution_count": 6,
   "id": "dd38ec11-9ea6-4b55-ba1c-63ca9562a8c8",
   "metadata": {},
   "outputs": [],
   "source": [
    "%matplotlib inline\n",
    "import pandas as pd\n",
    "import string\n",
    "import re\n",
    "import nltk\n",
    "import pymorphy3\n",
    "\n",
    "from nltk.tokenize import word_tokenize\n",
    "from nltk.corpus import stopwords\n",
    "from nltk.stem.snowball import SnowballStemmer\n",
    "\n",
    "from sklearn.feature_extraction.text import TfidfVectorizer\n",
    "import matplotlib.pyplot as plt\n",
    "import seaborn as sns\n",
    "import warnings\n",
    "warnings.filterwarnings('ignore')"
   ]
  },
  {
   "cell_type": "code",
   "execution_count": null,
   "id": "d1f01eb4-1c75-4e10-bb03-a229e125d24c",
   "metadata": {},
   "outputs": [],
   "source": []
  }
 ],
 "metadata": {
  "kernelspec": {
   "display_name": "Python 3 (ipykernel)",
   "language": "python",
   "name": "python3"
  },
  "language_info": {
   "codemirror_mode": {
    "name": "ipython",
    "version": 3
   },
   "file_extension": ".py",
   "mimetype": "text/x-python",
   "name": "python",
   "nbconvert_exporter": "python",
   "pygments_lexer": "ipython3",
   "version": "3.12.4"
  }
 },
 "nbformat": 4,
 "nbformat_minor": 5
}

{
 "cells": [
  {
   "cell_type": "markdown",
   "id": "08793464-eb42-48ba-994d-0d60f04fb0b9",
   "metadata": {},
   "source": [
    "## 1. Импорт пакетов и файла"
   ]
  },
  {
   "cell_type": "code",
   "execution_count": 1,
   "id": "dd38ec11-9ea6-4b55-ba1c-63ca9562a8c8",
   "metadata": {},
   "outputs": [],
   "source": [
    "%matplotlib inline\n",
    "import pandas as pd\n",
    "import numpy as np\n",
    "import optuna\n",
    "from sklearn.model_selection import train_test_split, cross_val_score\n",
    "from sklearn.model_selection import GridSearchCV\n",
    "from sklearn.linear_model import Ridge\n",
    "from sklearn.ensemble import RandomForestRegressor, StackingRegressor\n",
    "from sklearn.linear_model import LinearRegression\n",
    "from sklearn.tree import DecisionTreeRegressor\n",
    "from sklearn.svm import SVR\n",
    "from sklearn.preprocessing import LabelEncoder, StandardScaler\n",
    "from sklearn.metrics import mean_squared_error, r2_score\n",
    "from sklearn.impute import IterativeImputer\n",
    "from xgboost import XGBRegressor\n",
    "from lightgbm import LGBMRegressor\n",
    "import matplotlib.pyplot as plt\n",
    "import seaborn as sns\n",
    "import warnings\n",
    "warnings.filterwarnings('ignore')"
   ]
  },
  {
   "cell_type": "code",
   "execution_count": 2,
   "id": "d1f01eb4-1c75-4e10-bb03-a229e125d24c",
   "metadata": {},
   "outputs": [],
   "source": [
    "data = pd.read_csv('real_estate_data.csv')"
   ]
  },
  {
   "cell_type": "code",
   "execution_count": 3,
   "id": "52a1aad6-9c41-4f2d-a690-070c3c71dbf5",
   "metadata": {},
   "outputs": [],
   "source": [
    "# Фильтруем объявления (только продажи, исключаем аренду)\n",
    "data = data[data['listing_type'] == 1]"
   ]
  },
  {
   "cell_type": "code",
   "execution_count": 4,
   "id": "4fef31b2-c29c-43cf-b519-84c264b34a25",
   "metadata": {},
   "outputs": [],
   "source": [
    "# Предобработка\n",
    "data = data[(data['size'] < 1000) & (data['price_try'] < 1e8)]  # Удаление outliers\n",
    "exchange_rates = {'TRY': 1, 'USD': 34.0, 'EUR': 37.5, 'GBP': 44.5}  # Курсы на 07.09.2025\n",
    "data['price_try'] = data.apply(lambda x: x['price'] * exchange_rates.get(x['price_currency'], 1), axis=1)\n",
    "\n",
    "# Новые признаки\n",
    "data['city'] = data['address'].str.split('/').str[0]\n",
    "data['county'] = data['address'].str.split('/').str[1]\n",
    "data['price_per_m2'] = data['price_try'] / data['size']\n",
    "data['rooms_total'] = data['room_count'].str.split('+').apply(lambda x: sum(map(int, x)) if isinstance(x, list) else 0)\n",
    "data['season'] = pd.to_datetime(data['start_date'], format='%m/%d/%y').dt.month // 3 + 1\n",
    "\n",
    "# Импутация\n",
    "imputer = IterativeImputer()\n",
    "data[['size', 'building_age', 'floor_no']] = imputer.fit_transform(data[['size', 'building_age', 'floor_no']])\n",
    "\n",
    "# Логарифмирование целевой переменной\n",
    "y = np.log1p(data['price_try'])\n",
    "\n",
    "# Кодирование\n",
    "categorical_cols = ['type', 'sub_type', 'heating_type', 'furnished', 'city', 'county']\n",
    "for col in categorical_cols:\n",
    "    data[col] = data[col].replace('', np.nan).fillna('Unknown')\n",
    "    le = LabelEncoder()\n",
    "    data[col] = le.fit_transform(data[col].astype(str))\n",
    "\n",
    "# Стандартизация числовых признаков\n",
    "scaler = StandardScaler()\n",
    "numeric_cols = ['size', 'tom', 'building_age', 'total_floor_count', 'floor_no', 'price_per_m2', 'rooms_total']\n",
    "data[numeric_cols] = scaler.fit_transform(data[numeric_cols])\n",
    "\n",
    "# Данные\n",
    "X = data.drop(['price_try', 'end_date', 'start_date', 'address', 'price', 'price_currency', 'id'], axis=1)\n",
    "X_train, X_test, y_train, y_test = train_test_split(X, y, test_size=0.2, random_state=42)"
   ]
  },
  {
   "cell_type": "code",
   "execution_count": 5,
   "id": "fb06e6b5-f653-4324-b1f0-84b8e1c3b23b",
   "metadata": {},
   "outputs": [],
   "source": [
    "# Оптимизация XGBoost с Optuna\n",
    "def objective(trial):\n",
    "    params = {\n",
    "        'n_estimators': trial.suggest_int('n_estimators', 50, 300),\n",
    "        'max_depth': trial.suggest_int('max_depth', 3, 10),\n",
    "        'learning_rate': trial.suggest_float('learning_rate', 0.01, 0.1),\n",
    "        'reg_alpha': trial.suggest_float('reg_alpha', 0.1, 1.0)\n",
    "    }\n",
    "    model = XGBRegressor(**params, random_state=42)\n",
    "    model.fit(X_train, y_train)\n",
    "    y_pred = model.predict(X_test)\n",
    "    return mean_squared_error(y_test, y_pred)\n",
    "\n",
    "study = optuna.create_study(direction='minimize')\n",
    "study.optimize(objective, n_trials=20)\n",
    "xgb_params = study.best_params\n",
    "xgb_model = XGBRegressor(**xgb_params, random_state=42)"
   ]
  },
  {
   "cell_type": "code",
   "execution_count": 6,
   "id": "0f01a0a9-6bfe-4218-844b-db0e89d7a067",
   "metadata": {},
   "outputs": [],
   "source": [
    "# Создаем модели\n",
    "rf_model = RandomForestRegressor(n_estimators=100, max_depth=15, n_jobs=-1, random_state=42)\n",
    "xgb_model = XGBRegressor(**xgb_params, random_state=42)\n",
    "lgb_model = LGBMRegressor(n_estimators=200, learning_rate=0.05, random_state=42)\n",
    "stacking_model = StackingRegressor(\n",
    "    estimators=[\n",
    "        ('rf', rf_model),\n",
    "        ('xgb', xgb_model),\n",
    "        ('lgb', lgb_model)\n",
    "    ],\n",
    "    final_estimator=Ridge(alpha=0.5),\n",
    "    cv=3\n",
    ")"
   ]
  },
  {
   "cell_type": "code",
   "execution_count": 7,
   "id": "c4662e59-f95c-4a03-9047-05b21009ecd4",
   "metadata": {},
   "outputs": [],
   "source": [
    "models = {\n",
    "    'Random Forest': rf_model,\n",
    "    'Gradient Boosting (XGBoost)': xgb_model,\n",
    "    'LightGBM': lgb_model,\n",
    "    'Stacking': stacking_model\n",
    "}"
   ]
  },
  {
   "cell_type": "code",
   "execution_count": 8,
   "id": "eb63fc52-a6a9-4eae-b8ca-4c89d9406753",
   "metadata": {},
   "outputs": [],
   "source": [
    "# Обучаем модели\n",
    "results = {}\n",
    "predictions = {}\n",
    "for name, model in models.items():\n",
    "    model.fit(X_train, y_train)\n",
    "    y_pred = model.predict(X_test)\n",
    "    mse = mean_squared_error(y_test, y_pred)\n",
    "    r2 = r2_score(y_test, y_pred)\n",
    "    results[name] = {'MSE': mse, 'R2': r2}\n",
    "    predictions[name] = y_pred\n",
    "    print(f\"{name} - MSE: {mse:.2f}, R2: {r2:.2f}\")\n",
    "\n",
    "# Кросс-валидация для лучшей модели\n",
    "best_model_name = max(results, key=lambda x: results[x]['R2'])\n",
    "best_model = models[best_model_name]\n",
    "cv_scores = cross_val_score(best_model, X, y, cv=5, scoring='r2')\n",
    "print(f\"\\nCross-Validation R2 for {best_model_name}: {cv_scores.mean():.2f} (+/- {cv_scores.std() * 2:.2f})\")"
   ]
  },
  {
   "cell_type": "code",
   "execution_count": 9,
   "id": "b6c75dec-52a5-4070-b6c6-d508149ff01e",
   "metadata": {},
   "outputs": [],
   "source": [
    "# Find the best model\n",
    "best_model = max(results.items(), key=lambda x: x[1]['R2'])\n",
    "print(f\"\\nBest Model: {best_model[0]} with MSE: {best_model[1]['MSE']:.2f} and R2: {best_model[1]['R2']:.2f}\")"
   ]
  },
  {
   "cell_type": "code",
   "execution_count": 10,
   "id": "2f3e35e9-077d-4f5e-9a60-34c18aea936f",
   "metadata": {},
   "outputs": [],
   "source": [
    "# Visualization 1: Bar Plot for MSE and R2\n",
    "fig, (ax1, ax2) = plt.subplots(1, 2, figsize=(12, 5))\n",
    "\n",
    "# MSE Bar Plot\n",
    "sns.barplot(x=list(results.keys()), y=[results[model]['MSE'] for model in results], ax=ax1)\n",
    "ax1.set_title('Mean Squared Error (MSE) Comparison')\n",
    "ax1.set_ylabel('MSE')\n",
    "ax1.tick_params(axis='x', rotation=45)\n",
    "\n",
    "# R2 Bar Plot\n",
    "sns.barplot(x=list(results.keys()), y=[results[model]['R2'] for model in results], ax=ax2)\n",
    "ax2.set_title('R² Score Comparison')\n",
    "ax2.set_ylabel('R² Score')\n",
    "ax2.tick_params(axis='x', rotation=45)\n",
    "\n",
    "plt.tight_layout()\n",
    "plt.show()"
   ]
  },
  {
   "cell_type": "code",
   "execution_count": 11,
   "id": "0d25ff47-6236-4583-99ad-d2695d061556",
   "metadata": {},
   "outputs": [],
   "source": [
    "# Visualization 2: Scatter Plots for Predicted vs Actual Prices\n",
    "fig, axes = plt.subplots(1, 4, figsize=(20, 5), sharey=True)\n",
    "fig.suptitle('Predicted vs Actual Prices (Log Scale)')\n",
    "\n",
    "for i, (name, y_pred) in enumerate(predictions.items()):\n",
    "    axes[i].scatter(y_test, y_pred, alpha=0.5)\n",
    "    axes[i].plot([y_test.min(), y_test.max()], [y_test.min(), y_test.max()], 'r--', lw=2)\n",
    "    axes[i].set_title(name)\n",
    "    axes[i].set_xlabel('Actual Log Price (TRY)')\n",
    "    axes[i].set_ylabel('Predicted Log Price (TRY)')\n",
    "    axes[i].set_xscale('log')\n",
    "    axes[i].set_yscale('log')\n",
    "\n",
    "plt.tight_layout()\n",
    "plt.show()"
   ]
  },
  {
   "cell_type": "code",
   "execution_count": null,
   "id": "5433bcf2-3023-4d1d-b48e-e5c98ec2a19b",
   "metadata": {},
   "outputs": [],
   "source": []
  },
  {
   "cell_type": "code",
   "execution_count": null,
   "id": "480513e0-9fac-4cd6-bc1f-fed06998b49c",
   "metadata": {},
   "outputs": [],
   "source": []
  },
  {
   "cell_type": "code",
   "execution_count": null,
   "id": "ca624cf4-48fc-467e-9c77-6717a2b37e31",
   "metadata": {},
   "outputs": [],
   "source": []
  }
 ],
 "metadata": {
  "kernelspec": {
   "display_name": "Python 3 (ipykernel)",
   "language": "python",
   "name": "python3"
  },
  "language_info": {
   "codemirror_mode": {
    "name": "ipython",
    "version": 3
   },
   "file_extension": ".py",
   "mimetype": "text/x-python",
   "name": "python",
   "nbconvert_exporter": "python",
   "pygments_lexer": "ipython3",
   "version": "3.13.5"
  }
 },
 "nbformat": 4,
 "nbformat_minor": 5
}